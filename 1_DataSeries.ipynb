{
  "nbformat": 4,
  "nbformat_minor": 0,
  "metadata": {
    "colab": {
      "provenance": [],
      "authorship_tag": "ABX9TyNONnLVJhPEzmyQI3kpBm83",
      "include_colab_link": true
    },
    "kernelspec": {
      "name": "python3",
      "display_name": "Python 3"
    },
    "language_info": {
      "name": "python"
    }
  },
  "cells": [
    {
      "cell_type": "markdown",
      "metadata": {
        "id": "view-in-github",
        "colab_type": "text"
      },
      "source": [
        "<a href=\"https://colab.research.google.com/github/ms624atyale/Data_Analysis/blob/main/1_DataSeries.ipynb\" target=\"_parent\"><img src=\"https://colab.research.google.com/assets/colab-badge.svg\" alt=\"Open In Colab\"/></a>"
      ]
    },
    {
      "cell_type": "markdown",
      "source": [
        "Index, Series, Element(원소)\n",
        "\n",
        "|Index Name/label | i0 | i1 | i2 | i3 | ... | in | \n",
        "|:|-|-|-|-|-|-|\n",
        "|Index Value | V0 | V1 | V2 | V3 | ... | Vn | \n",
        "|Integer position|0|1|2|3|...|n|\n",
        "\n",
        "Exercise\n",
        "\n",
        "|Index Name/label | a | b | c | d | e | f | \n",
        "|:|-|-|-|-|-|-|\n",
        "|Index Value | 10 | 20 | 30 | 40 | 50 | 60 | \n",
        "|Integer position|0|1|2|3|4|5|\n",
        "\n",
        "Series['c'] ➡️  30\n",
        "\n",
        "Series[\"c\"] ➡️  30\n",
        "\n",
        "Series[2] ➡️  30\n",
        "\n",
        "Series[['d'],['e']] ➡️  40, 50\n",
        "\n",
        "Series[[3,4]] ➡️  40, 50\n",
        "* 여러개의 인덱스를 리스트 형태로 입력할 때에는 대괄호 ([]) 안에 넣기 \n",
        "\n",
        "Series['d':'e'] ➡️  40, 50\n",
        "\n",
        "Series[3:5] ➡️  40, 50"
      ],
      "metadata": {
        "id": "HhxjKRzMymn3"
      }
    },
    {
      "cell_type": "code",
      "execution_count": null,
      "metadata": {
        "colab": {
          "base_uri": "https://localhost:8080/"
        },
        "id": "KdX5zx0yv-eO",
        "outputId": "1755cac7-caa8-4501-d3d2-a792cdff8bee"
      },
      "outputs": [
        {
          "output_type": "stream",
          "name": "stdout",
          "text": [
            "Looking in indexes: https://pypi.org/simple, https://us-python.pkg.dev/colab-wheels/public/simple/\n",
            "Requirement already satisfied: pandas in /usr/local/lib/python3.10/dist-packages (1.5.3)\n",
            "Requirement already satisfied: python-dateutil>=2.8.1 in /usr/local/lib/python3.10/dist-packages (from pandas) (2.8.2)\n",
            "Requirement already satisfied: pytz>=2020.1 in /usr/local/lib/python3.10/dist-packages (from pandas) (2022.7.1)\n",
            "Requirement already satisfied: numpy>=1.21.0 in /usr/local/lib/python3.10/dist-packages (from pandas) (1.22.4)\n",
            "Requirement already satisfied: six>=1.5 in /usr/local/lib/python3.10/dist-packages (from python-dateutil>=2.8.1->pandas) (1.16.0)\n",
            "<class 'pandas.core.series.Series'>\n",
            "\n",
            "\n",
            "a    1\n",
            "b    2\n",
            "c    3\n",
            "dtype: int64\n"
          ]
        }
      ],
      "source": [
        "!pip install pandas\n",
        "import pandas as pd\n",
        "dict_data = {'a':1, 'b':2, 'c':3}\n",
        "\n",
        "sr = pd.Series(dict_data)\n",
        "\n",
        "print(type(sr)) #시리즈 클래스. 시리즈는 데이터가 순차적으로 나열된 1차원 배열\n",
        "print('\\n')\n",
        "print(sr) #dtype: int64 (정수형)"
      ]
    },
    {
      "cell_type": "code",
      "source": [
        "import pandas as pd\n",
        "list_data = ['2025-01-01', 3.14, 'ABC', 100, True]\n",
        "sr = pd.Series(list_data)\n",
        "print(sr)"
      ],
      "metadata": {
        "id": "KSy0Rz6byu99",
        "outputId": "ce06db05-8d04-4826-ba20-763bf408cb1e",
        "colab": {
          "base_uri": "https://localhost:8080/"
        }
      },
      "execution_count": 1,
      "outputs": [
        {
          "output_type": "stream",
          "name": "stdout",
          "text": [
            "0    2025-01-01\n",
            "1          3.14\n",
            "2           ABC\n",
            "3           100\n",
            "4          True\n",
            "dtype: object\n"
          ]
        }
      ]
    },
    {
      "cell_type": "code",
      "source": [
        "import pandas as pd\n",
        "tuple_data = ('Emma', '2000.12.25', 'Female', True)\n",
        "sr = pd.Series(tuple_data, index=['Name', 'DOB', 'Gender', 'Student'])\n",
        "print(sr)\n",
        "\n",
        "print(sr[0])\n",
        "print(sr['Name'])"
      ],
      "metadata": {
        "id": "lLLBsDAo2ka7",
        "outputId": "7d3a6ab7-4e51-4569-c638-5b38d7f62f1a",
        "colab": {
          "base_uri": "https://localhost:8080/"
        }
      },
      "execution_count": 8,
      "outputs": [
        {
          "output_type": "stream",
          "name": "stdout",
          "text": [
            "Name             Emma\n",
            "DOB        2000.12.25\n",
            "Gender         Female\n",
            "Student          True\n",
            "dtype: object\n",
            "Emma\n",
            "Emma\n"
          ]
        }
      ]
    },
    {
      "cell_type": "code",
      "source": [
        "import pandas as pd\n",
        "tuple_data = ('Emma', '2000.12.25', 'Female', True)\n",
        "sr = pd.Series(tuple_data, index=['Name', 'DOB', 'Gender', 'Student'])\n",
        "\n",
        "print(sr[[1,2]])\n",
        "print('\\n')\n",
        "print(sr[['DOB','Gender']])"
      ],
      "metadata": {
        "id": "_s-Hbotn6Fhr",
        "outputId": "c1a82533-8300-4d13-a5bc-bcfa04289974",
        "colab": {
          "base_uri": "https://localhost:8080/"
        }
      },
      "execution_count": 10,
      "outputs": [
        {
          "output_type": "stream",
          "name": "stdout",
          "text": [
            "DOB       2000.12.25\n",
            "Gender        Female\n",
            "dtype: object\n",
            "\n",
            "\n",
            "DOB       2000.12.25\n",
            "Gender        Female\n",
            "dtype: object\n"
          ]
        }
      ]
    }
  ]
}