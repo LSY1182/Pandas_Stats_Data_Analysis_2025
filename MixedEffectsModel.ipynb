{
  "nbformat": 4,
  "nbformat_minor": 0,
  "metadata": {
    "colab": {
      "provenance": [],
      "authorship_tag": "ABX9TyNO2yW2JcIupXm6yt1xrRle",
      "include_colab_link": true
    },
    "kernelspec": {
      "name": "python3",
      "display_name": "Python 3"
    },
    "language_info": {
      "name": "python"
    }
  },
  "cells": [
    {
      "cell_type": "markdown",
      "metadata": {
        "id": "view-in-github",
        "colab_type": "text"
      },
      "source": [
        "<a href=\"https://colab.research.google.com/github/ms624atyale/Data_Analysis/blob/main/MixedEffectsModel.ipynb\" target=\"_parent\"><img src=\"https://colab.research.google.com/assets/colab-badge.svg\" alt=\"Open In Colab\"/></a>"
      ]
    },
    {
      "cell_type": "markdown",
      "source": [
        "###_⏰ Before we get down to business_\n",
        "\n",
        "##**[EMA experiment Demo on Youtue](https://www.youtube.com/watch?v=pYSDkQa5WEI)**\n",
        "- <font color = 'red'> Watch 3:35 for the experimental demo"
      ],
      "metadata": {
        "id": "zxz9aLbdXM2r"
      }
    },
    {
      "cell_type": "markdown",
      "source": [
        "\n",
        "\n",
        "##**[1️⃣ Recall linear equation (y = b + ax)](https://github.com/ms624atyale/Data_Analysis/blob/main/9_LinearEquation.ipynb)**\n",
        "\n",
        "###_**Ho:**_ Constriction duration of the lower lip is the same across different speech rate (fast vs. comfortable).\n",
        "\n",
        "> summary(lm(LLy_ConstrictionDur ~ SpeechRate, data = dt))\n",
        "\n",
        "Call:\n",
        "lm(formula = LLy_ConstrictionDur ~ SpeechRate, data = dt)\n",
        "\n",
        "Residuals:\n",
        "\n",
        "|Min|1Q|Median|3Q|Max |\n",
        "|:-:|:-:|:-:|:-:|:-:|\n",
        "|-8.6375|-2.6325|-0.6325|1.3675|27.7625|\n",
        "\n",
        "\n",
        "Coefficients:\n",
        "\n",
        "||Estimate|Std. Error|t value|Pr(>t)|\n",
        "|:-:|:-:|:-:|:-:|:-:|\n",
        "|(Intercept)|18.2375|0.6215|29.343|< 2e-16 ***|\n",
        "|SpeechRatefast|-5.6050|0.8790|-6.377|1.9e-09 ***|\n",
        "\n",
        "Signif. codes:  0 '***' 0.001 '**' 0.01 '*' 0.05 '.' 0.1 ' ' 1\n",
        "\n",
        "Residual standard error: 5.559 on 158 degrees of freedom\n",
        "Multiple R-squared:  0.2047,\tAdjusted R-squared:  0.1996\n",
        "F-statistic: 40.66 on 1 and 158 DF,  p-value: 1.902e-09\n",
        "\n",
        "Interpretation: “The constriction duration using the vertical movement of the lower lip varied with SpeechRate.” This indicates that constriction duration is shorter for Fast speech rate by 4.3961. Be aware that it is a negative value."
      ],
      "metadata": {
        "id": "XzDme0znWh3m"
      }
    },
    {
      "cell_type": "markdown",
      "source": [
        "# 2️⃣  Mixed Effects Model\n",
        "### A model contacting both fixed and random factors.\n",
        "### R packages: lmerTest\n",
        "R function: lmer() (cf., Johnson(2008) uses different packages and functions)\n",
        "\n",
        "\n",
        "1) **Fixed effects**: Factors we are interested in (e.g., speech rates, word boundary, prosodic position, etc. in Linguistics).\n",
        "\n",
        "2) **Random effects**: Subjects and items are randomly sampled from population.\n",
        "\n",
        "- Subjects and Items are randomly sampled from their population. Suppose we redo/repeat the same experiment. In this case, we design its experimental design same as the previous one, implying different subjects and items.\n",
        "\n",
        "\n",
        "Caution: 수치들은 특정 화자들의 발화를 측정한 결과이다. 따라서 샘플이 다른 화자들을 측정 했을 때에는 결과가 달라질 수 있다. 화자는 전형적인 랜덤(non-repeatable)효과(random effects)의 예이다. (e.g., 교육학에서는 반별 차이, 영어통사론에서는 아이템(예: 동사별) 차이)\n",
        "\n",
        "\n",
        "e.g., (*PP_SentInitial#* According to the media) (*ArgS#* President Menem) (*verb* took) (*ArgS#* office) (*PP_SentFinal#* on July 8).\n",
        "\n",
        "3) Mixed effects Model:\n",
        "\n",
        "summary(lmer(LLy_ConstrictionDur ~ SpeechRate + (1|Subject), data = dt))\n",
        "\n",
        "Linear mixed model fit by REML. t-tests use Satterthwaite's method ['lmerModLmerTest']\n",
        "\n",
        "Formula: LLy_ConstrictionDur ~ SpeechRate + (1 | Subject)\n",
        "   Data: dt\n",
        "\n",
        "\n",
        "REML criterion at convergence: 990.8\n",
        "\n",
        "\n",
        "Scaled residuals:\n",
        "\n",
        "|Min|1Q|Median|3Q|Max |\n",
        "|:-:|:-:|:-:|:-:|:-:|\n",
        "||||||\n",
        "       \n",
        ">\n",
        "\n",
        "Fixed effects:\n",
        "\n",
        "||Estimate|Std. Error|t value|Pr(>t)|\n",
        "|:-:|:-:|:-:|:-:|:-:|\n",
        "|(Intercept)|\n",
        "|SpeechRatefast|\n",
        "\n",
        "\n",
        "\n",
        "\n",
        "\n",
        "\n",
        "\n",
        "\n"
      ],
      "metadata": {
        "id": "wzMe_cIXZ0G1"
      }
    }
  ]
}