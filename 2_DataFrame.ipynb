{
  "nbformat": 4,
  "nbformat_minor": 0,
  "metadata": {
    "colab": {
      "provenance": [],
      "authorship_tag": "ABX9TyMjyA6ndyALJdWgB9MiQ0ad",
      "include_colab_link": true
    },
    "kernelspec": {
      "name": "python3",
      "display_name": "Python 3"
    },
    "language_info": {
      "name": "python"
    }
  },
  "cells": [
    {
      "cell_type": "markdown",
      "metadata": {
        "id": "view-in-github",
        "colab_type": "text"
      },
      "source": [
        "<a href=\"https://colab.research.google.com/github/ms624atyale/Data_Analysis/blob/main/2_DataFrame.ipynb\" target=\"_parent\"><img src=\"https://colab.research.google.com/assets/colab-badge.svg\" alt=\"Open In Colab\"/></a>"
      ]
    },
    {
      "cell_type": "markdown",
      "source": [
        "👀 🐾 <font color = 'red'> **Data frame** </font>\n",
        "\n",
        "|Index Name/label | column 0| column 1 | column 2 | ...| column n |\n",
        "|:|-|-|-|-|-|\n",
        "|index 0 | data 0 | data 0 | data 0 | ... | data 0 |\n",
        "|index 1 | data 1 | data 1 | data 1 | ... | data 1 |\n",
        "|index 2 | data 2 | data 2 | data 2 | ... | data 2 |\n",
        "|index 3 | data 3 | data 3 | data 3 | ... | data 3 |\n",
        "| . | . | . | . | . | . |\n",
        "| . | . | . | . | . | . |\n",
        "| . | . | . | . | . | . |\n",
        "|index n | data n | data n | data n | ... | data n |\n",
        "|| series 0 | series 1 | series 2 | ... | series n |\n",
        "\n",
        ">\n",
        "\n",
        "- series : column vector\n",
        "- data frame: 2-plane vector or matrix\n",
        "\n",
        ">\n",
        "\n",
        "<font color = 'blue'>👀 🐾 **An example of data frame**\n",
        "\n",
        "Think about adding a table on p.12\n"
      ],
      "metadata": {
        "id": "HhxjKRzMymn3"
      }
    },
    {
      "cell_type": "code",
      "source": [
        "#@markdown <font color = 'red'> **🐹 Student Activity 1 ⤵️**\n",
        "\n",
        "#@markdown <font color = 'blue'> **dictionary ➡️ data frame, shape (3,5) 3행 5열**\n",
        "\n",
        "#-*- coding: urf-8 -*-\n",
        "\n",
        "# dictionary data with column name as key & list as value\n",
        "\n",
        "import pandas as pd\n",
        "dict_data = {'c0':[1,2,3], 'c1':[4,5,6], 'c2':[7,8,9], 'c3':[10,11,12], 'c4':[13,14,15]}\n",
        "\n",
        "#함수로 dict_data 변수 내용을 데이터프레임으로 변환. 변수 df에 할당\n",
        "df = pd.DataFrame(dict_data)\n",
        "\n",
        "print(type(df))\n",
        "print('\\n')\n",
        "print(df)\n"
      ],
      "metadata": {
        "colab": {
          "base_uri": "https://localhost:8080/"
        },
        "id": "KSy0Rz6byu99",
        "outputId": "b63ca456-1a12-4499-e293-7318cfd0e4e5"
      },
      "execution_count": 1,
      "outputs": [
        {
          "output_type": "stream",
          "name": "stdout",
          "text": [
            "<class 'pandas.core.frame.DataFrame'>\n",
            "\n",
            "\n",
            "   c0  c1  c2  c3  c4\n",
            "0   1   4   7  10  13\n",
            "1   2   5   8  11  14\n",
            "2   3   6   9  12  15\n"
          ]
        }
      ]
    },
    {
      "cell_type": "markdown",
      "source": [
        "👀 🐾 **Give names of row index & coumn name**"
      ],
      "metadata": {
        "id": "Ole8Rw5-7VHQ"
      }
    },
    {
      "cell_type": "code",
      "source": [
        "#@markdown <font color = 'red'> **🐹 Student Activity 2 ⤵️**\n",
        "\n",
        "#@markdown <font color = 'blue'> **행 인덱스/ 열 이름 지정하여 데이터 프레임으로 만들기**\n",
        "\n",
        "#-*- coding: urf-8 -*-\n",
        "\n",
        "import pandas as pd\n",
        "\n",
        "tuple_data = ([15, 'Male', 'Public'], [17, 'Female', 'Priviate'])\n",
        "\n",
        "df = pd.DataFrame(tuple_data, index = ['Simon', 'Emma'],\n",
        "              columns = ['Age', 'Gender', 'School'])\n",
        "\n",
        "print(type(df))\n",
        "print('\\n')\n",
        "print(df)\n",
        "print('\\n')\n",
        "print(df.index)\n",
        "print('\\n')\n",
        "print(df.columns)"
      ],
      "metadata": {
        "id": "3mCeh2bG7wwk",
        "outputId": "2fe23df4-f07c-40a3-a343-1909b331ab38",
        "colab": {
          "base_uri": "https://localhost:8080/"
        }
      },
      "execution_count": 2,
      "outputs": [
        {
          "output_type": "stream",
          "name": "stdout",
          "text": [
            "<class 'pandas.core.frame.DataFrame'>\n",
            "\n",
            "\n",
            "       Age  Gender    School\n",
            "Simon   15    Male    Public\n",
            "Emma    17  Female  Priviate\n",
            "\n",
            "\n",
            "Index(['Simon', 'Emma'], dtype='object')\n",
            "\n",
            "\n",
            "Index(['Age', 'Gender', 'School'], dtype='object')\n"
          ]
        }
      ]
    },
    {
      "cell_type": "code",
      "source": [
        "#@markdown <font color = 'red'> **🐹 Student Activity 3 ⤵️**\n",
        "\n",
        "#@markdown <font color = 'blue'>위 코드셀 행 인덱스 (row index)를 ['Student 1', 'Student 2']로 변경하고, 열 이름 (column name)을 ['Number of Years', 'M/F', 'Affiliation'] 으로 변경\n",
        "\n",
        "import pandas as pd\n",
        "\n",
        "tuple_data = ([15, 'Male', 'Public'], [17, 'Female', 'Priviate'])\n",
        "\n",
        "df = pd.DataFrame(tuple_data, index = ['Simon', 'Emma'],\n",
        "              columns = ['Age', 'Gender', 'School'])\n",
        "\n",
        "df.index = ['Student 1', 'Student 2']\n",
        "\n",
        "#UserWarning: Pandas doesn't allow columns to be created via a new attribute name. If you miss 'inplace=True argument, you will end up with old column names.\n",
        "df.rename(columns={'Age':'Number of Years', 'Gender':'M/F', 'School':'Affiliation'}, inplace = True)\n",
        "\n",
        "print(type(df))\n",
        "print('\\n')\n",
        "print(df)"
      ],
      "metadata": {
        "id": "Wf6omO_x-Uin",
        "outputId": "f0cbd99c-4d72-4914-9a96-16ab2683a297",
        "colab": {
          "base_uri": "https://localhost:8080/"
        }
      },
      "execution_count": 3,
      "outputs": [
        {
          "output_type": "stream",
          "name": "stdout",
          "text": [
            "<class 'pandas.core.frame.DataFrame'>\n",
            "\n",
            "\n",
            "           Number of Years     M/F Affiliation\n",
            "Student 1               15    Male      Public\n",
            "Student 2               17  Female    Priviate\n"
          ]
        }
      ]
    },
    {
      "cell_type": "markdown",
      "source": [
        "<font color = 'blue'>👀 🐾 **Dropping rows & colums**"
      ],
      "metadata": {
        "id": "J8FhLIJoGyOP"
      }
    },
    {
      "cell_type": "code",
      "source": [
        "#@markdown <font color = 'red'> **🐹 Student Activity 4 ⤵️**\n",
        "\n",
        "#@markdown <font color = 'blue'> **Dropping rows 행 삭제**\n",
        "import pandas as pd\n",
        "\n",
        "exam_data = {'Math':[90, 80, 70], 'English':[98, 89, 95],\n",
        "             'Music':[85, 95, 100], 'Gym':[100,90,90]}\n",
        "\n",
        "df = pd.DataFrame(exam_data, index = ['Simon', 'Emma', 'Mary'])\n",
        "\n",
        "print(df)\n",
        "print('\\n')\n",
        "\n",
        "df2 = df[:]\n",
        "df2.drop('Emma', axis=0, inplace = True) # axis=0 for dropping rows\n",
        "print(df2)\n",
        "print('\\n')\n",
        ""
      ],
      "metadata": {
        "id": "0iqCoSQZEB4I",
        "outputId": "afee8539-16c3-43a7-cd23-44be5d935c52",
        "colab": {
          "base_uri": "https://localhost:8080/"
        }
      },
      "execution_count": 5,
      "outputs": [
        {
          "output_type": "stream",
          "name": "stdout",
          "text": [
            "       Math  English  Music  Gym\n",
            "Simon    90       98     85  100\n",
            "Emma     80       89     95   90\n",
            "Mary     70       95    100   90\n",
            "\n",
            "\n",
            "       Math  English  Music  Gym\n",
            "Simon    90       98     85  100\n",
            "Mary     70       95    100   90\n",
            "\n",
            "\n"
          ]
        },
        {
          "output_type": "stream",
          "name": "stderr",
          "text": [
            "<ipython-input-5-db12da74e5ea>:15: SettingWithCopyWarning: \n",
            "A value is trying to be set on a copy of a slice from a DataFrame\n",
            "\n",
            "See the caveats in the documentation: https://pandas.pydata.org/pandas-docs/stable/user_guide/indexing.html#returning-a-view-versus-a-copy\n",
            "  df2.drop('Emma', axis=0, inplace = True) # axis=0 for dropping rows\n"
          ]
        }
      ]
    },
    {
      "cell_type": "code",
      "source": [
        "#@markdown <font color = 'red'> **🐹 Student Activity 4 ⤵️**\n",
        "\n",
        "#@markdown <font color = 'blue'> **Dropping columns 열 삭제**\n",
        "import pandas as pd\n",
        "\n",
        "exam_data = {'Math':[90, 80, 70], 'English':[98, 89, 95],\n",
        "             'Music':[85, 95, 100], 'Gym':[100,90,90]}\n",
        "\n",
        "df = pd.DataFrame(exam_data, index = ['Simon', 'Emma', 'Mary'])\n",
        "\n",
        "print(df)\n",
        "print('\\n')\n",
        "\n",
        "df2 = df[:]\n",
        "df2.drop('Gym', axis=1, inplace=True) # axis=1 for dropping columns\n",
        "\n",
        "print(df2)"
      ],
      "metadata": {
        "id": "3gakU7shGM-e",
        "outputId": "cc886e17-40e3-4e7f-fe92-e827d5798852",
        "colab": {
          "base_uri": "https://localhost:8080/"
        }
      },
      "execution_count": 6,
      "outputs": [
        {
          "output_type": "stream",
          "name": "stdout",
          "text": [
            "       Math  English  Music  Gym\n",
            "Simon    90       98     85  100\n",
            "Emma     80       89     95   90\n",
            "Mary     70       95    100   90\n",
            "\n",
            "\n",
            "       Math  English  Music\n",
            "Simon    90       98     85\n",
            "Emma     80       89     95\n",
            "Mary     70       95    100\n"
          ]
        },
        {
          "output_type": "stream",
          "name": "stderr",
          "text": [
            "<ipython-input-6-227bb8f723a7>:15: SettingWithCopyWarning: \n",
            "A value is trying to be set on a copy of a slice from a DataFrame\n",
            "\n",
            "See the caveats in the documentation: https://pandas.pydata.org/pandas-docs/stable/user_guide/indexing.html#returning-a-view-versus-a-copy\n",
            "  df2.drop('Gym', axis=1, inplace=True) # axis=1 for dropping columns\n"
          ]
        }
      ]
    },
    {
      "cell_type": "markdown",
      "source": [
        "loc[], iloc[]\n",
        "* 인덱스 이름 기준으로 선택할 때는 loc[] 사용\n",
        "* 정수형 위치 인덱스를 사용할 때는 iloc[] 사용\n",
        "\n",
        "|구분|loc[]|iloc[]|\n",
        "|:|-|-|\n",
        "|탐색대상|인덱스 이름 index label/name| 정수형 위치 인덱스 (integer position)|\n",
        "|범위지정 예시|loc['a':'c'] ➡️ 'a', 'b', 'c'|iloc[3:7] ➡️  3,4,5,6|"
      ],
      "metadata": {
        "id": "DaZaTy2SH_tX"
      }
    },
    {
      "cell_type": "code",
      "source": [
        "#@markdown <font color = 'red'> **🐹 Student Activity 5 ⤵️**\n",
        "\n",
        "#@markdown <font color = 'blue'> **Choose a row 행 선택**\n",
        "\n",
        "#@markdown <font color = 'blue'> **loc[] & iloc[]**\n",
        "\n",
        "import pandas as pd\n",
        "\n",
        "exam_data = {'Math':[90, 80, 70], 'English':[98, 89, 95],\n",
        "             'Music':[85, 95, 100], 'Gym':[100,90,90]}\n",
        "\n",
        "df = pd.DataFrame(exam_data, index = ['Simon', 'Emma', 'Mary'])\n",
        "\n",
        "print(df)\n",
        "print('\\n')\n",
        "\n",
        "label1 = df.loc['Simon']\n",
        "print(label1)\n",
        "print('\\n')\n",
        "\n",
        "position1 = df.iloc[0]\n",
        "print(position1)\n"
      ],
      "metadata": {
        "id": "gyoTZY2KHtuZ",
        "outputId": "52145984-bd0a-460e-8bcd-09980de25bb3",
        "colab": {
          "base_uri": "https://localhost:8080/"
        }
      },
      "execution_count": 7,
      "outputs": [
        {
          "output_type": "stream",
          "name": "stdout",
          "text": [
            "       Math  English  Music  Gym\n",
            "Simon    90       98     85  100\n",
            "Emma     80       89     95   90\n",
            "Mary     70       95    100   90\n",
            "\n",
            "\n",
            "Math        90\n",
            "English     98\n",
            "Music       85\n",
            "Gym        100\n",
            "Name: Simon, dtype: int64\n",
            "\n",
            "\n",
            "Math        90\n",
            "English     98\n",
            "Music       85\n",
            "Gym        100\n",
            "Name: Simon, dtype: int64\n"
          ]
        }
      ]
    },
    {
      "cell_type": "code",
      "source": [
        "#@markdown <font color = 'red'> **🐹 Student Activity 6 ⤵️**\n",
        "\n",
        "#@markdown <font color = 'blue'> **Choose rows 행 선택 1**\n",
        "\n",
        "#@markdown <font color = 'blue'> **loc[[]] & iloc[[]]**\n",
        "\n",
        "import pandas as pd\n",
        "\n",
        "exam_data = {'Math':[90, 80, 70], 'English':[98, 89, 95],\n",
        "             'Music':[85, 95, 100], 'Gym':[100,90,90]}\n",
        "\n",
        "df = pd.DataFrame(exam_data, index = ['Simon', 'Emma', 'Mary'])\n",
        "\n",
        "print(df)\n",
        "print('\\n')\n",
        "\n",
        "label2 = df.loc[['Simon', 'Mary']]\n",
        "print(label2)\n",
        "print('\\n')\n",
        "\n",
        "location2 = df.iloc[[0,2]]"
      ],
      "metadata": {
        "id": "wd4ZkSmkJlLk",
        "outputId": "71adb52f-e445-4dd0-f2a6-f1aff3cdea51",
        "colab": {
          "base_uri": "https://localhost:8080/"
        }
      },
      "execution_count": 8,
      "outputs": [
        {
          "output_type": "stream",
          "name": "stdout",
          "text": [
            "       Math  English  Music  Gym\n",
            "Simon    90       98     85  100\n",
            "Emma     80       89     95   90\n",
            "Mary     70       95    100   90\n",
            "\n",
            "\n",
            "       Math  English  Music  Gym\n",
            "Simon    90       98     85  100\n",
            "Mary     70       95    100   90\n",
            "\n",
            "\n"
          ]
        }
      ]
    },
    {
      "cell_type": "code",
      "source": [
        "#@markdown <font color = 'red'> **🐹 Student Activity 7 ⤵️**\n",
        "\n",
        "#@markdown <font color = 'blue'> **Choose rows 행 선택 2**\n",
        "\n",
        "#@markdown <font color = 'blue'> **loc[[]] & iloc[[]]**\n",
        "\n",
        "import pandas as pd\n",
        "\n",
        "exam_data = {'Math':[90, 80, 70], 'English':[98, 89, 95],\n",
        "             'Music':[85, 95, 100], 'Gym':[100,90,90]}\n",
        "\n",
        "df = pd.DataFrame(exam_data, index = ['Simon', 'Emma', 'Mary'])\n",
        "\n",
        "print(df)\n",
        "print('\\n')\n",
        "\n",
        "label3 = df.loc['Simon':'Emma']\n",
        "print(label3)\n",
        "print('\\n')\n",
        "\n",
        "location3 = df.iloc[0:2]\n",
        "print(label3)"
      ],
      "metadata": {
        "id": "wgsiKE2pK9To",
        "outputId": "5bad00ba-7796-468c-bdbe-c2471a5ae0d4",
        "colab": {
          "base_uri": "https://localhost:8080/"
        }
      },
      "execution_count": 10,
      "outputs": [
        {
          "output_type": "stream",
          "name": "stdout",
          "text": [
            "       Math  English  Music  Gym\n",
            "Simon    90       98     85  100\n",
            "Emma     80       89     95   90\n",
            "Mary     70       95    100   90\n",
            "\n",
            "\n",
            "       Math  English  Music  Gym\n",
            "Simon    90       98     85  100\n",
            "Emma     80       89     95   90\n",
            "\n",
            "\n",
            "       Math  English  Music  Gym\n",
            "Simon    90       98     85  100\n",
            "Emma     80       89     95   90\n"
          ]
        }
      ]
    },
    {
      "cell_type": "code",
      "source": [
        "#@markdown <font color = 'red'> **🐹 Student Activity 8 ⤵️**\n",
        "\n",
        "#@markdown <font color = 'blue'> **Choose a column 열 선택**\n",
        "\n",
        "#@markdown <font color = 'blue'> **column name[]**\n",
        "\n",
        "import pandas as pd\n",
        "\n",
        "exam_data = {'Math':[90, 80, 70], 'English':[98, 89, 95],\n",
        "             'Music':[85, 95, 100], 'Gym':[100,90,90]}\n",
        "\n",
        "df = pd.DataFrame(exam_data, index = ['Simon', 'Emma', 'Mary'])\n",
        "\n",
        "print(df)\n",
        "print('\\n')\n",
        "\n",
        "math1 = df['Math']\n",
        "print(math1)\n",
        "print('\\n')\n",
        "print(type(math1))\n",
        "\n",
        "english1 = df['English']\n",
        "print(english1)\n",
        "print('\\n')\n",
        "print(type(english1))\n",
        "\n",
        "gym1 = df['Gym']\n",
        "print(gym1)\n",
        "print('\\n')\n",
        "print(type(gym1))"
      ],
      "metadata": {
        "id": "1ElBWe4XMLQN",
        "outputId": "5a6fe170-1d83-46c4-82e2-d1a1bcee4d7d",
        "colab": {
          "base_uri": "https://localhost:8080/"
        }
      },
      "execution_count": 22,
      "outputs": [
        {
          "output_type": "stream",
          "name": "stdout",
          "text": [
            "       Math  English  Music  Gym\n",
            "Simon    90       98     85  100\n",
            "Emma     80       89     95   90\n",
            "Mary     70       95    100   90\n",
            "\n",
            "\n",
            "Simon    90\n",
            "Emma     80\n",
            "Mary     70\n",
            "Name: Math, dtype: int64\n",
            "\n",
            "\n",
            "<class 'pandas.core.series.Series'>\n",
            "Simon    98\n",
            "Emma     89\n",
            "Mary     95\n",
            "Name: English, dtype: int64\n",
            "\n",
            "\n",
            "<class 'pandas.core.series.Series'>\n",
            "Simon    100\n",
            "Emma      90\n",
            "Mary      90\n",
            "Name: Gym, dtype: int64\n",
            "\n",
            "\n",
            "<class 'pandas.core.series.Series'>\n"
          ]
        }
      ]
    },
    {
      "cell_type": "code",
      "source": [
        "#@markdown <font color = 'red'> **🐹 Student Activity 8 ⤵️**\n",
        "\n",
        "#@markdown <font color = 'blue'> **Choose a column 열 선택**\n",
        "\n",
        "#@markdown <font color = 'blue'> **column name[[]]**\n",
        "\n",
        "import pandas as pd\n",
        "\n",
        "exam_data = {'Math':[90, 80, 70], 'English':[98, 89, 95],\n",
        "             'Music':[85, 95, 100], 'Gym':[100,90,90]}\n",
        "\n",
        "df = pd.DataFrame(exam_data, index = ['Simon', 'Emma', 'Mary'])\n",
        "\n",
        "print(df)\n",
        "print('\\n')\n",
        "\n",
        "eng_gym = df[['English','Gym']] #💣Why do I need two sets of squared brackets??? One set did not work out at all...\n",
        "print(eng_gym)\n",
        "print('\\n')\n",
        "print(type(eng_gym))"
      ],
      "metadata": {
        "id": "i6JeRsBhN-H1",
        "outputId": "8b37100c-84ef-4bb9-9d23-6dd06fe06377",
        "colab": {
          "base_uri": "https://localhost:8080/"
        }
      },
      "execution_count": 23,
      "outputs": [
        {
          "output_type": "stream",
          "name": "stdout",
          "text": [
            "       Math  English  Music  Gym\n",
            "Simon    90       98     85  100\n",
            "Emma     80       89     95   90\n",
            "Mary     70       95    100   90\n",
            "\n",
            "\n",
            "       English  Gym\n",
            "Simon       98  100\n",
            "Emma        89   90\n",
            "Mary        95   90\n",
            "\n",
            "\n",
            "<class 'pandas.core.frame.DataFrame'>\n"
          ]
        }
      ]
    }
  ]
}