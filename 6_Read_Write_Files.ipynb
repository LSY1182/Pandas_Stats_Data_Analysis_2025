{
  "nbformat": 4,
  "nbformat_minor": 0,
  "metadata": {
    "colab": {
      "provenance": [],
      "authorship_tag": "ABX9TyO0zQDsxDTHPDdt182ZeTOD",
      "include_colab_link": true
    },
    "kernelspec": {
      "name": "python3",
      "display_name": "Python 3"
    },
    "language_info": {
      "name": "python"
    }
  },
  "cells": [
    {
      "cell_type": "markdown",
      "metadata": {
        "id": "view-in-github",
        "colab_type": "text"
      },
      "source": [
        "<a href=\"https://colab.research.google.com/github/ms624atyale/Data_Analysis/blob/main/6_Read_Write_Files.ipynb\" target=\"_parent\"><img src=\"https://colab.research.google.com/assets/colab-badge.svg\" alt=\"Open In Colab\"/></a>"
      ]
    },
    {
      "cell_type": "markdown",
      "source": [
        "###**Read and write files in various format**\n",
        "- csv\n",
        "- json\n",
        "- html\n",
        "- clipboard\n",
        "- excel\n",
        "- hdf\n",
        "- sql\n",
        "\n",
        "pp.058-062 (cf., 옵션 설명 표는 책 참조)\n",
        "\n",
        "[공공데이터포털](https://www.data.go.kr/)\n",
        "- csv, xlxs 등의 자료를 다운로드 받을 수 있는 대한민국 공식 전자정부 누리집"
      ],
      "metadata": {
        "id": "IQnkvIIkTKAI"
      }
    },
    {
      "cell_type": "markdown",
      "source": [
        "###**<font color = 'red'> 🐹🐾 Read and write the csv format**"
      ],
      "metadata": {
        "id": "laF0M7SpLCfz"
      }
    },
    {
      "cell_type": "code",
      "source": [
        "# csv (comma separated values) format\n",
        "\n",
        "import pandas as pd\n",
        "\n",
        "#file directory\n",
        "file = \"/content/sample_data/sample.csv\"\n",
        "\n",
        "#read_csv() function으ㄹ 사용하여 데이터프레임 변환, 기본값 0행을 열 지정 (열지정이 뭐야??)\n",
        "df1 = pd.read_csv(file)\n",
        "print(df1)\n",
        "print('\\n')\n",
        "\n",
        "#header = None 선택\n",
        "df2 = pd.read_csv(file, header = None)\n",
        "print(df2)\n",
        "print('\\n')\n",
        "\n",
        "#hearder = 1 선택\n",
        "df3 = pd.read_csv(file, header = 1)\n",
        "print(df3)\n",
        "print('\\n')\n",
        "\n",
        "#index_col = False (인덱스 지정하지 않음)\n",
        "df4 = pd.read_csv(file, index_col = False)\n",
        "print(df4)\n",
        "print('\\n')\n",
        "\n",
        "#index_col = 'c0' 첫 번째 열을 인덱스 지정\n",
        "df5 = pd.read_csv(file, index_col = 'c0')\n",
        "print(df5)\n",
        "\n",
        "\n"
      ],
      "metadata": {
        "colab": {
          "base_uri": "https://localhost:8080/"
        },
        "id": "pq2pkeHvTJfD",
        "outputId": "53202533-be64-4c9d-96d9-250d0904649f"
      },
      "execution_count": null,
      "outputs": [
        {
          "output_type": "stream",
          "name": "stdout",
          "text": [
            "   c0  c1  c2  c3\n",
            "0   0   1   4   7\n",
            "1   1   2   5   8\n",
            "2   2   3   6   9\n",
            "\n",
            "\n",
            "    0   1   2   3\n",
            "0  c0  c1  c2  c3\n",
            "1   0   1   4   7\n",
            "2   1   2   5   8\n",
            "3   2   3   6   9\n",
            "\n",
            "\n",
            "   0  1  4  7\n",
            "0  1  2  5  8\n",
            "1  2  3  6  9\n",
            "\n",
            "\n",
            "   c0  c1  c2  c3\n",
            "0   0   1   4   7\n",
            "1   1   2   5   8\n",
            "2   2   3   6   9\n",
            "\n",
            "\n",
            "    c1  c2  c3\n",
            "c0            \n",
            "0    1   4   7\n",
            "1    2   5   8\n",
            "2    3   6   9\n"
          ]
        }
      ]
    },
    {
      "cell_type": "markdown",
      "source": [
        "###**<font color = 'red'> 🐹🐾 Read and write the excel format**\n",
        "- use element (engine = 'openpyxl') for .xlxs\n",
        "- use element (engine = 'xlrd') for .xls"
      ],
      "metadata": {
        "id": "nuR9zbudLZS5"
      }
    },
    {
      "cell_type": "code",
      "execution_count": 2,
      "metadata": {
        "id": "HDGtFK4eTHmK",
        "outputId": "963d8f07-232e-4952-d848-f3e5ba83a313",
        "colab": {
          "base_uri": "https://localhost:8080/"
        }
      },
      "outputs": [
        {
          "output_type": "stream",
          "name": "stdout",
          "text": [
            "                 서대문구 코로나19 예방접종 현황(2021. 2월~2022. 4월) Unnamed: 1 Unnamed: 2  \\\n",
            "0    ※ 상기 통계는 질병보건통합시스템에 따른 잠정 수치로 변동 가능함. (자료수신일 ‘...        NaN        NaN   \n",
            "1                                                   지역  `21. 2~6월        NaN   \n",
            "2                                                  NaN      1차접종자      2차접종자   \n",
            "3                                                    계      97631      36532   \n",
            "4                                                  서대문      97631      36532   \n",
            "..                                                 ...        ...        ...   \n",
            "233                                   제주특별자치도서귀포시동부보건소        치도서      16547   \n",
            "234                                  제주특별자치도서귀포시서귀포보건소        치도서      32541   \n",
            "235                                   제주특별자치도서귀포시서부보건소        치도서      10067   \n",
            "236                                       제주특별자치도서부보건소        치도서      20177   \n",
            "237                                       제주특별자치도제주보건소        치도제     104828   \n",
            "\n",
            "            Unnamed: 3 Unnamed: 4          Unnamed: 5 Unnamed: 6  \\\n",
            "0                  NaN        NaN                 NaN        NaN   \n",
            "1    `21.7.4.0시 기준(누적)        NaN  `21.7.11.0시 기준(누적)        NaN   \n",
            "2                1차접종자      2차접종자               1차접종자      2차접종자   \n",
            "3                97673      39218               99372      42760   \n",
            "4                97673      39218               99372      42760   \n",
            "..                 ...        ...                 ...        ...   \n",
            "233               5045      19487                 NaN        NaN   \n",
            "234               9983      40226                 NaN        NaN   \n",
            "235               3342      12646                 NaN        NaN   \n",
            "236               7017      24195                 NaN        NaN   \n",
            "237              35120     138540                 NaN        NaN   \n",
            "\n",
            "             Unnamed: 7 Unnamed: 8           Unnamed: 9  ... Unnamed: 134  \\\n",
            "0                   NaN        NaN                  NaN  ...          NaN   \n",
            "1    `21.7.18.0시 기준(누적)        NaN  `21. 7.25.0시 기준(누적)  ...          NaN   \n",
            "2                 1차접종자      2차접종자                1차접종자  ...        3차접종자   \n",
            "3                102315      47167               107205  ...       195069   \n",
            "4                102315      47167               107205  ...       195069   \n",
            "..                  ...        ...                  ...  ...          ...   \n",
            "233                 NaN        NaN                  NaN  ...          NaN   \n",
            "234                 NaN        NaN                  NaN  ...          NaN   \n",
            "235                 NaN        NaN                  NaN  ...          NaN   \n",
            "236                 NaN        NaN                  NaN  ...          NaN   \n",
            "237                 NaN        NaN                  NaN  ...          NaN   \n",
            "\n",
            "    Unnamed: 135        Unnamed: 136 Unnamed: 137 Unnamed: 138 Unnamed: 139  \\\n",
            "0            NaN                 NaN          NaN          NaN          NaN   \n",
            "1            NaN  `22.5.22.0시 기준(누적)          NaN          NaN          NaN   \n",
            "2          4차접종자               1차접종자        2차접종자        3차접종자        4차접종자   \n",
            "3          18890              269051       266344       195313        20977   \n",
            "4          18890              269051       266344       195313        20977   \n",
            "..           ...                 ...          ...          ...          ...   \n",
            "233          NaN                 NaN          NaN          NaN          NaN   \n",
            "234          NaN                 NaN          NaN          NaN          NaN   \n",
            "235          NaN                 NaN          NaN          NaN          NaN   \n",
            "236          NaN                 NaN          NaN          NaN          NaN   \n",
            "237          NaN                 NaN          NaN          NaN          NaN   \n",
            "\n",
            "           Unnamed: 140 Unnamed: 141 Unnamed: 142 Unnamed: 143  \n",
            "0                   NaN          NaN          NaN          NaN  \n",
            "1    `22.5.29.0시 기준(누적)          NaN          NaN          NaN  \n",
            "2                 1차접종자        2차접종자        3차접종자        4차접종자  \n",
            "3                269089       266460       195530        22492  \n",
            "4                269089       266460       195530        22492  \n",
            "..                  ...          ...          ...          ...  \n",
            "233                 NaN          NaN          NaN          NaN  \n",
            "234                 NaN          NaN          NaN          NaN  \n",
            "235                 NaN          NaN          NaN          NaN  \n",
            "236                 NaN          NaN          NaN          NaN  \n",
            "237                 NaN          NaN          NaN          NaN  \n",
            "\n",
            "[238 rows x 144 columns]\n",
            "\n",
            "\n",
            "                                                   0          1       2    \\\n",
            "0                서대문구 코로나19 예방접종 현황(2021. 2월~2022. 4월)        NaN     NaN   \n",
            "1    ※ 상기 통계는 질병보건통합시스템에 따른 잠정 수치로 변동 가능함. (자료수신일 ‘...        NaN     NaN   \n",
            "2                                                   지역  `21. 2~6월     NaN   \n",
            "3                                                  NaN      1차접종자   2차접종자   \n",
            "4                                                    계      97631   36532   \n",
            "..                                                 ...        ...     ...   \n",
            "234                                   제주특별자치도서귀포시동부보건소        치도서   16547   \n",
            "235                                  제주특별자치도서귀포시서귀포보건소        치도서   32541   \n",
            "236                                   제주특별자치도서귀포시서부보건소        치도서   10067   \n",
            "237                                       제주특별자치도서부보건소        치도서   20177   \n",
            "238                                       제주특별자치도제주보건소        치도제  104828   \n",
            "\n",
            "                   3       4                   5      6                   7    \\\n",
            "0                  NaN     NaN                 NaN    NaN                 NaN   \n",
            "1                  NaN     NaN                 NaN    NaN                 NaN   \n",
            "2    `21.7.4.0시 기준(누적)     NaN  `21.7.11.0시 기준(누적)    NaN  `21.7.18.0시 기준(누적)   \n",
            "3                1차접종자   2차접종자               1차접종자  2차접종자               1차접종자   \n",
            "4                97673   39218               99372  42760              102315   \n",
            "..                 ...     ...                 ...    ...                 ...   \n",
            "234               5045   19487                 NaN    NaN                 NaN   \n",
            "235               9983   40226                 NaN    NaN                 NaN   \n",
            "236               3342   12646                 NaN    NaN                 NaN   \n",
            "237               7017   24195                 NaN    NaN                 NaN   \n",
            "238              35120  138540                 NaN    NaN                 NaN   \n",
            "\n",
            "       8                    9    ...     134    135                 136  \\\n",
            "0      NaN                  NaN  ...     NaN    NaN                 NaN   \n",
            "1      NaN                  NaN  ...     NaN    NaN                 NaN   \n",
            "2      NaN  `21. 7.25.0시 기준(누적)  ...     NaN    NaN  `22.5.22.0시 기준(누적)   \n",
            "3    2차접종자                1차접종자  ...   3차접종자  4차접종자               1차접종자   \n",
            "4    47167               107205  ...  195069  18890              269051   \n",
            "..     ...                  ...  ...     ...    ...                 ...   \n",
            "234    NaN                  NaN  ...     NaN    NaN                 NaN   \n",
            "235    NaN                  NaN  ...     NaN    NaN                 NaN   \n",
            "236    NaN                  NaN  ...     NaN    NaN                 NaN   \n",
            "237    NaN                  NaN  ...     NaN    NaN                 NaN   \n",
            "238    NaN                  NaN  ...     NaN    NaN                 NaN   \n",
            "\n",
            "        137     138    139                 140     141     142    143  \n",
            "0       NaN     NaN    NaN                 NaN     NaN     NaN    NaN  \n",
            "1       NaN     NaN    NaN                 NaN     NaN     NaN    NaN  \n",
            "2       NaN     NaN    NaN  `22.5.29.0시 기준(누적)     NaN     NaN    NaN  \n",
            "3     2차접종자   3차접종자  4차접종자               1차접종자   2차접종자   3차접종자  4차접종자  \n",
            "4    266344  195313  20977              269089  266460  195530  22492  \n",
            "..      ...     ...    ...                 ...     ...     ...    ...  \n",
            "234     NaN     NaN    NaN                 NaN     NaN     NaN    NaN  \n",
            "235     NaN     NaN    NaN                 NaN     NaN     NaN    NaN  \n",
            "236     NaN     NaN    NaN                 NaN     NaN     NaN    NaN  \n",
            "237     NaN     NaN    NaN                 NaN     NaN     NaN    NaN  \n",
            "238     NaN     NaN    NaN                 NaN     NaN     NaN    NaN  \n",
            "\n",
            "[239 rows x 144 columns]\n"
          ]
        }
      ],
      "source": [
        "import pandas as pd\n",
        "df1 = pd.read_excel(\"/content/sample_data/sample_COVID19_vaccine_Seoul_SouthGate_byweek_20220613.xlsx\", engine = 'openpyxl') #header = 0 (by default)\n",
        "df2 = pd.read_excel(\"/content/sample_data/sample_COVID19_vaccine_Seoul_SouthGate_byweek_20220613.xlsx\", engine = 'openpyxl', header = None) #header unapplied\n",
        "\n",
        "print(df1)\n",
        "print('\\n')\n",
        "print(df2)"
      ]
    },
    {
      "cell_type": "markdown",
      "source": [
        "###**<font color = 'red'> 🐹🐾 Read and write the html format**\n",
        "- visit a webpage.\n",
        " - e.g., google.com ➡️ hold <CONTROL> + Click ➡️ save as <Google> with the format of <Webpage, HTML Only> ➡️ hit Upload ➡️ select the <Google.html>\n",
        ">\n",
        "- [정보문화사 파이썬 머신러닝 판다스 데이터 분석](http://www.infopub.co.kr/new/include/detail.asp?sku=05000266) ➡️ 샘플자료 다운로드 (우측 하단)"
      ],
      "metadata": {
        "id": "YBoUnRxrLbNJ"
      }
    },
    {
      "cell_type": "code",
      "source": [
        "import pandas as pd\n",
        "\n",
        "url = \"/content/sample_data/sample.html\"\n",
        "\n",
        "#html 웹페이지의 표를 가져와서 데이터프레임으로 변환\n",
        "tables = pd.read_html(url)\n",
        "\n",
        "#표 개수 확인\n",
        "print(len(tables))\n",
        "print('\\n')\n",
        "\n",
        "#표 리스트의 원소를 반복하면서 (interating the element of the table list) 화면 출력\n",
        "for i in range(len(tables)):\n",
        "  print(\"tables[%s]\" %i)\n",
        "  print(tables[i])\n",
        "  print('\\n')\n",
        "\n",
        "#파이썬 패키지 정보가 들어 있는 두 번째 데이터프레임을 선택하여 df 변수에 저장\n",
        "df = tables[i]\n",
        "\n",
        "#name 열을 인덱스로 저장\n",
        "df.set_index(['name'], inplace = True)\n",
        "print(df)"
      ],
      "metadata": {
        "id": "jPxRRr_iTs_P",
        "outputId": "44b48e84-072a-4e77-fdfb-68a5f3d0a0c4",
        "colab": {
          "base_uri": "https://localhost:8080/"
        }
      },
      "execution_count": 9,
      "outputs": [
        {
          "output_type": "stream",
          "name": "stdout",
          "text": [
            "2\n",
            "\n",
            "\n",
            "tables[0]\n",
            "   Unnamed: 0  c0  c1  c2  c3\n",
            "0           0   0   1   4   7\n",
            "1           1   1   2   5   8\n",
            "2           2   2   3   6   9\n",
            "\n",
            "\n",
            "tables[1]\n",
            "         name  year        developer  opensource\n",
            "0       NumPy  2006  Travis Oliphant        True\n",
            "1  matplotlib  2003   John D. Hunter        True\n",
            "2      pandas  2008    Wes Mckinneye        True\n",
            "\n",
            "\n",
            "            year        developer  opensource\n",
            "name                                         \n",
            "NumPy       2006  Travis Oliphant        True\n",
            "matplotlib  2003   John D. Hunter        True\n",
            "pandas      2008    Wes Mckinneye        True\n"
          ]
        }
      ]
    }
  ]
}