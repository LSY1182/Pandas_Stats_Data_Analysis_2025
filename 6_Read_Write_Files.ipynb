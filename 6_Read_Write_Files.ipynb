{
  "nbformat": 4,
  "nbformat_minor": 0,
  "metadata": {
    "colab": {
      "provenance": [],
      "authorship_tag": "ABX9TyP3uThTUSh8ownPk+yBudzz",
      "include_colab_link": true
    },
    "kernelspec": {
      "name": "python3",
      "display_name": "Python 3"
    },
    "language_info": {
      "name": "python"
    }
  },
  "cells": [
    {
      "cell_type": "markdown",
      "metadata": {
        "id": "view-in-github",
        "colab_type": "text"
      },
      "source": [
        "<a href=\"https://colab.research.google.com/github/ms624atyale/Data_Analysis/blob/main/6_Read_Write_Files.ipynb\" target=\"_parent\"><img src=\"https://colab.research.google.com/assets/colab-badge.svg\" alt=\"Open In Colab\"/></a>"
      ]
    },
    {
      "cell_type": "markdown",
      "source": [
        "###**Read and write files in various format**\n",
        "- csv\n",
        "- json\n",
        "- html\n",
        "- clipboard\n",
        "- excel\n",
        "- hdf\n",
        "- sql\n",
        "\n",
        "pp.058-062 (cf., 옵션 설명 표는 책 참조)"
      ],
      "metadata": {
        "id": "IQnkvIIkTKAI"
      }
    },
    {
      "cell_type": "code",
      "source": [
        "# csv (comma separated values) format\n",
        "\n",
        "import pandas as pd\n",
        "\n",
        "#file directory\n",
        "file = \"/content/sample_data/sample.csv\"\n",
        "\n",
        "#read_csv() function으ㄹ 사용하여 데이터프레임 변환, 기본값 0행을 열 지정 (열지정이 뭐야??)\n",
        "df1 = pd.read_csv(file)\n",
        "print(df1)\n",
        "print('\\n')\n",
        "\n",
        "#header = None 선택\n",
        "df2 = pd.read_csv(file, header = None)\n",
        "print(df2)\n",
        "print('\\n')\n",
        "\n",
        "#hearder = 1 선택\n",
        "df3 = pd.read_csv(file, header = 1)\n",
        "print(df3)\n",
        "print('\\n')\n",
        "\n",
        "#index_col = False (인덱스 지정하지 않음)\n",
        "df4 = pd.read_csv(file, index_col = False)\n",
        "print(df4)\n",
        "print('\\n')\n",
        "\n",
        "#index_col = 'c0' 첫 번째 열을 인덱스 지정\n",
        "df5 = pd.read_csv(file, index_col = 'c0')\n",
        "print(df5)\n",
        "\n",
        "\n"
      ],
      "metadata": {
        "colab": {
          "base_uri": "https://localhost:8080/"
        },
        "id": "pq2pkeHvTJfD",
        "outputId": "53202533-be64-4c9d-96d9-250d0904649f"
      },
      "execution_count": 5,
      "outputs": [
        {
          "output_type": "stream",
          "name": "stdout",
          "text": [
            "   c0  c1  c2  c3\n",
            "0   0   1   4   7\n",
            "1   1   2   5   8\n",
            "2   2   3   6   9\n",
            "\n",
            "\n",
            "    0   1   2   3\n",
            "0  c0  c1  c2  c3\n",
            "1   0   1   4   7\n",
            "2   1   2   5   8\n",
            "3   2   3   6   9\n",
            "\n",
            "\n",
            "   0  1  4  7\n",
            "0  1  2  5  8\n",
            "1  2  3  6  9\n",
            "\n",
            "\n",
            "   c0  c1  c2  c3\n",
            "0   0   1   4   7\n",
            "1   1   2   5   8\n",
            "2   2   3   6   9\n",
            "\n",
            "\n",
            "    c1  c2  c3\n",
            "c0            \n",
            "0    1   4   7\n",
            "1    2   5   8\n",
            "2    3   6   9\n"
          ]
        }
      ]
    },
    {
      "cell_type": "code",
      "execution_count": null,
      "metadata": {
        "id": "HDGtFK4eTHmK"
      },
      "outputs": [],
      "source": []
    }
  ]
}