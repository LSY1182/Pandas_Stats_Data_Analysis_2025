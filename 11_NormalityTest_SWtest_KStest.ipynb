{
  "nbformat": 4,
  "nbformat_minor": 0,
  "metadata": {
    "colab": {
      "provenance": [],
      "authorship_tag": "ABX9TyPVz47NudKnLNSAfUUeb+dO",
      "include_colab_link": true
    },
    "kernelspec": {
      "name": "python3",
      "display_name": "Python 3"
    },
    "language_info": {
      "name": "python"
    }
  },
  "cells": [
    {
      "cell_type": "markdown",
      "metadata": {
        "id": "view-in-github",
        "colab_type": "text"
      },
      "source": [
        "<a href=\"https://colab.research.google.com/github/ms624atyale/Data_Analysis/blob/main/11_NormalityTest_SWtest_KStest.ipynb\" target=\"_parent\"><img src=\"https://colab.research.google.com/assets/colab-badge.svg\" alt=\"Open In Colab\"/></a>"
      ]
    },
    {
      "cell_type": "markdown",
      "source": [
        "## 💦🔥 **Normality test**\n",
        "\n",
        "1. **Small sample size (N<50)**, which is comparable to **Shapiro-Wilk** test on SPSS\n",
        "\n",
        "2. **Big sample size (N>50)**, which is comparable to **Kolmogorov-Smirnov** test on SPSS\n",
        "\n"
      ],
      "metadata": {
        "id": "NJ08d_uKSFuM"
      }
    },
    {
      "cell_type": "markdown",
      "source": [
        "# <font color = 'green'> **1️⃣  Small Sample Size (N < 50)**\n",
        "    **Be** aware that the following script generates different results for everyone running it!"
      ],
      "metadata": {
        "id": "ORCNnHH_10vs"
      }
    },
    {
      "cell_type": "markdown",
      "source": [
        "## CTT (Critical Test Threshold)\n",
        "\n",
        "- The p-value represents the probability of observing the test statistic (or more extreme) under the assumption that the null hypothesis is true. However, it doesn't provide information about the size of the effect or the practical significance of the result.\n",
        "\n",
        "- On the other hand, the critical test threshold (CTT) is the predetermined significance level (often denoted as alpha) at which you're willing to reject the null hypothesis. It is typically set to 0.05."
      ],
      "metadata": {
        "id": "NBV0cLff730W"
      }
    },
    {
      "cell_type": "markdown",
      "source": [
        "# <font color = 'green'> **1️⃣-1️⃣  Small Sample Size with Gaussian distribution (N < 50)**"
      ],
      "metadata": {
        "id": "l3WhCZYfbx8E"
      }
    },
    {
      "cell_type": "code",
      "execution_count": 52,
      "metadata": {
        "id": "3454tysCMAaw",
        "colab": {
          "base_uri": "https://localhost:8080/"
        },
        "outputId": "bf341ddc-2869-4768-d557-7786a4f04f20"
      },
      "outputs": [
        {
          "output_type": "stream",
          "name": "stdout",
          "text": [
            "[3.06311558 3.86024082 5.24056753 4.41255991 3.11703544 2.89910458\n",
            " 4.46749156 4.20509746 2.21820283 1.90498566 3.52920426 2.60171916\n",
            " 1.89369714 3.28945091 2.48834318 2.60457086 2.90929974 2.07556486\n",
            " 2.67327347 2.57463426 3.29401441 2.1100155  2.66021632 1.69105299\n",
            " 2.73875519 3.82558354 3.03448616 2.56519025 1.30169108 3.58212535\n",
            " 2.0990314  1.46595429 3.84368046 3.64145275 3.21058476 3.94553459\n",
            " 2.97955747 3.46802949 2.18571275 3.4094476  5.02474199 1.71493991\n",
            " 3.24668187 2.80447751 3.89664552 2.14190691 3.91980557 3.18361755\n",
            " 1.3497368  4.02492624]\n",
            "\n",
            "\n",
            "Full set of data points for Gaussian data:\n",
            "      Values\n",
            "0   3.063116\n",
            "1   3.860241\n",
            "2   5.240568\n",
            "3   4.412560\n",
            "4   3.117035\n",
            "5   2.899105\n",
            "6   4.467492\n",
            "7   4.205097\n",
            "8   2.218203\n",
            "9   1.904986\n",
            "10  3.529204\n",
            "11  2.601719\n",
            "12  1.893697\n",
            "13  3.289451\n",
            "14  2.488343\n",
            "15  2.604571\n",
            "16  2.909300\n",
            "17  2.075565\n",
            "18  2.673273\n",
            "19  2.574634\n",
            "20  3.294014\n",
            "21  2.110016\n",
            "22  2.660216\n",
            "23  1.691053\n",
            "24  2.738755\n",
            "25  3.825584\n",
            "26  3.034486\n",
            "27  2.565190\n",
            "28  1.301691\n",
            "29  3.582125\n",
            "30  2.099031\n",
            "31  1.465954\n",
            "32  3.843680\n",
            "33  3.641453\n",
            "34  3.210585\n",
            "35  3.945535\n",
            "36  2.979557\n",
            "37  3.468029\n",
            "38  2.185713\n",
            "39  3.409448\n",
            "40  5.024742\n",
            "41  1.714940\n",
            "42  3.246682\n",
            "43  2.804478\n",
            "44  3.896646\n",
            "45  2.141907\n",
            "46  3.919806\n",
            "47  3.183618\n",
            "48  1.349737\n",
            "49  4.024926\n",
            "\n",
            "\n",
            "Shapiro-Wilk Test Statistic: 0.9859686493873596\n",
            "p-value: 0.8123283982276917\n",
            "Sample looks Gaussian (fail to reject H0)\n"
          ]
        }
      ],
      "source": [
        "import numpy as np # numeric calculation\n",
        "import pandas as pd # data analysis\n",
        "import seaborn as sns\n",
        "from scipy.stats import shapiro # stats\n",
        "\n",
        "# Generate a random dataset (replace this with your own data)\n",
        "# 🔔 The following code line generates random numbers from a normal (Gaussian) distribution using NumPy's random.normal function.\n",
        "# 🔔 loc=3, scale=1, size=50 (creating an array of 50 numbers drawn from a normal distribution with a mean (loc) of 3 and a standard deviation (scale) of 1.\n",
        "data_gaussian = np.random.normal(loc=3, scale=1, size=50)\n",
        "print(data_gaussian)\n",
        "print('\\n')\n",
        "\n",
        "# Convert the data to a pandas DataFrame\n",
        "df1 = pd.DataFrame(data_gaussian, columns=['Values'])\n",
        "print('Full set of data points for Gaussian data:')\n",
        "print(df1)\n",
        "print('\\n')\n",
        "\n",
        "# Save the DataFrame to a CSV file\n",
        "df1.to_csv('generated_data1.csv', index=True) # index=True for inncluding index\n",
        "\n",
        "# Perform Shapiro-Wilk test for normality\n",
        "# 🔔 Tuple unpacking: shapiro() function returns a tuple containing two values: the test statistic and the p-value.\n",
        "# By separating statistic and p_value with a comma, Python interprets the returned tuple and assigns each value to its corresponding variable.\n",
        "statistic, p_value = shapiro(data_gaussian)\n",
        "\n",
        "# Print the test statistic and p-value\n",
        "print(\"Shapiro-Wilk Test Statistic:\", statistic)\n",
        "print(\"p-value:\", p_value)\n",
        "\n",
        "# Define the CTT (critical test threshold, aka., alpha)\n",
        "alpha = 0.05\n",
        "\n",
        "# Interpret the result\n",
        "if p_value > alpha:\n",
        "    print(\"Sample looks Gaussian (fail to reject H0)\")\n",
        "else:\n",
        "    print(\"Sample does not look Gaussian (reject H0)\")\n",
        "\n"
      ]
    },
    {
      "cell_type": "markdown",
      "source": [
        "# ↘️ ↘️  \n",
        "\n",
        "## 🍪 🍩 **T-test for a pair-wise comparison for further analysis**"
      ],
      "metadata": {
        "id": "VW-fcMbXZKRS"
      }
    },
    {
      "cell_type": "markdown",
      "source": [
        "# <font color = 'green'> **1️⃣-2️⃣  Small Sample Size with non-Gaussian distribution (N < 50)**"
      ],
      "metadata": {
        "id": "UkFMUyaacPeM"
      }
    },
    {
      "cell_type": "code",
      "source": [
        "import numpy as np\n",
        "import pandas as pd\n",
        "from scipy.stats import shapiro\n",
        "\n",
        "\n",
        "# Generate data from an exponential distribution\n",
        "data_non_gaussian = np.random.exponential(scale=3, size=50) #generates 50 data points from an exponential distribution with a mean of 3.\n",
        "\n",
        "\n",
        "# Perform Shapiro-Wilk test for normality\n",
        "statistic, p_value = shapiro(data_non_gaussian)\n",
        "print(data_non_gaussian)\n",
        "print('\\n')\n",
        "\n",
        "\n",
        "# Convert the data to a pandas DataFrame\n",
        "df2 = pd.DataFrame(data_non_gaussian, columns=['Values'])\n",
        "# Display the full set of data points\n",
        "print(\"Full set of data points for Non-Gaussian data:\")\n",
        "print(df2)\n",
        "print('\\n')\n",
        "\n",
        "# Save the DataFrame to a CSV file\n",
        "df2.to_csv('non_gaussian_data.csv', index=True)\n",
        "\n",
        "# Perform Shapiro-Wilk test for normality\n",
        "statistic, p_value = shapiro(data_non_gaussian)\n",
        "\n",
        "# Print the test statistic and p-value\n",
        "print(\"Shapiro-Wilk Test Statistic:\", statistic)\n",
        "print(\"p-value:\", p_value)\n",
        "\n",
        "# Define the CTT (critical test threshold, aka., alpha)\n",
        "alpha = 0.05\n",
        "\n",
        "# Interpret the result\n",
        "if p_value > alpha:\n",
        "    print(\"Sample looks Gaussian (fail to reject H0)\")\n",
        "else:\n",
        "    print(\"Sample does not look Gaussian (reject H0)\")"
      ],
      "metadata": {
        "id": "z512G3m37zmx",
        "outputId": "6604e81f-a9cc-4ac6-8f2c-dce76bc9fdd1",
        "colab": {
          "base_uri": "https://localhost:8080/"
        }
      },
      "execution_count": 53,
      "outputs": [
        {
          "output_type": "stream",
          "name": "stdout",
          "text": [
            "[ 4.39128392  1.41805837  2.20597581  5.4970073   7.42303778 11.47524251\n",
            "  1.77188     2.03501022  2.22673078  0.4714642   1.14991258  3.4717296\n",
            "  0.68448441  0.13604393  7.0807502   1.67095137  0.8621325   3.19275737\n",
            "  0.92592303  5.11435575  8.22767977  0.413394    1.71005851  8.69885117\n",
            "  0.38827459  3.34495732  1.96514109  6.0195781  13.82396358  5.02167033\n",
            "  0.07854986  0.75967128  1.95750198  2.71723662  0.30399046  0.42914018\n",
            "  0.07029064  0.65813941  5.21040325  3.65673902  9.53146709  3.03009873\n",
            "  4.0309487   3.12213196  5.45283571  1.56900323  1.32938533  0.68548009\n",
            "  1.34637133  6.82161805]\n",
            "\n",
            "\n",
            "Full set of data points for Non-Gaussian data:\n",
            "       Values\n",
            "0    4.391284\n",
            "1    1.418058\n",
            "2    2.205976\n",
            "3    5.497007\n",
            "4    7.423038\n",
            "5   11.475243\n",
            "6    1.771880\n",
            "7    2.035010\n",
            "8    2.226731\n",
            "9    0.471464\n",
            "10   1.149913\n",
            "11   3.471730\n",
            "12   0.684484\n",
            "13   0.136044\n",
            "14   7.080750\n",
            "15   1.670951\n",
            "16   0.862133\n",
            "17   3.192757\n",
            "18   0.925923\n",
            "19   5.114356\n",
            "20   8.227680\n",
            "21   0.413394\n",
            "22   1.710059\n",
            "23   8.698851\n",
            "24   0.388275\n",
            "25   3.344957\n",
            "26   1.965141\n",
            "27   6.019578\n",
            "28  13.823964\n",
            "29   5.021670\n",
            "30   0.078550\n",
            "31   0.759671\n",
            "32   1.957502\n",
            "33   2.717237\n",
            "34   0.303990\n",
            "35   0.429140\n",
            "36   0.070291\n",
            "37   0.658139\n",
            "38   5.210403\n",
            "39   3.656739\n",
            "40   9.531467\n",
            "41   3.030099\n",
            "42   4.030949\n",
            "43   3.122132\n",
            "44   5.452836\n",
            "45   1.569003\n",
            "46   1.329385\n",
            "47   0.685480\n",
            "48   1.346371\n",
            "49   6.821618\n",
            "\n",
            "\n",
            "Shapiro-Wilk Test Statistic: 0.8581863641738892\n",
            "p-value: 2.5968511181417853e-05\n",
            "Sample does not look Gaussian (reject H0)\n"
          ]
        }
      ]
    },
    {
      "cell_type": "markdown",
      "source": [
        "**e-0X in standard decimal notation is to move the decimal point X places to the left:**\n",
        "\n",
        "- **e.g., 0.345e-08 ➡️ 0.0000000345**"
      ],
      "metadata": {
        "id": "sQ4W24gidVTZ"
      }
    },
    {
      "cell_type": "markdown",
      "source": [
        "# ↘️ ↘️  \n",
        "\n",
        "##🍓 🍉**Mann Witney U test (aka. Wilcoxon Rank Sum test) for a pair-wise comparison for further analysis**"
      ],
      "metadata": {
        "id": "i4bdCug0Znta"
      }
    },
    {
      "cell_type": "markdown",
      "source": [
        "# <font color = 'green'> **2️⃣ Big Sample Size (N > 50)**\n",
        "    Be aware that the following script generates different results for everyone running it!"
      ],
      "metadata": {
        "id": "K3wroDBt2Bhz"
      }
    },
    {
      "cell_type": "markdown",
      "source": [
        "# <font color = 'orange'> **2️⃣-1️⃣  Big Sample Size with Gaussian distribution (N > 50)**"
      ],
      "metadata": {
        "id": "vh2b-3sd0er1"
      }
    },
    {
      "cell_type": "code",
      "source": [
        "import numpy as np # numeric calculation\n",
        "import pandas as pd # data analysis\n",
        "import seaborn as sns\n",
        "from scipy.stats import kstest, norm # stats\n",
        "\n",
        "\n",
        "# Generate a random dataset (replace this with your own data)\n",
        "# loc=0, scale=1, size=100 (creating an array of 100 numbers drawn from a normal distribution with a mean (loc) of 0 and a standard deviation (scale) of 1.\n",
        "data_big_gaussian = np.random.normal(loc=0, scale=0.5, size=100)\n",
        "print(data_big_gaussian)\n",
        "print('\\n')\n",
        "\n",
        "# Convert the data to a pandas DataFrame\n",
        "df3 = pd.DataFrame(data_big_gaussian, columns=['Values'])\n",
        "print(df3)\n",
        "print('\\n')\n",
        "\n",
        "# Save the DataFrame to a CSV file\n",
        "df3.to_csv('GeneratedGaussianBigSampleData.csv', index=True)\n",
        "\n",
        "# 💊 Perform Kolmogorov-Smirnov test for normality ⤵️\n",
        "statistic, p_value = kstest(df3['Values'], 'norm', args=(df3['Values'].mean(), df3['Values'].std()))\n",
        "\n",
        "# Print the test statistic and p-value\n",
        "print(\"Kolmogorov-Smirnov Test Statistic:\", statistic)\n",
        "print(\"p-value:\", p_value)\n",
        "\n",
        "# Define the CTT (critical test threshold, aka., alpha)\n",
        "alpha = 0.05\n",
        "\n",
        "# Interpret the result\n",
        "if p_value > alpha:\n",
        "    print(\"Sample looks Gaussian (fail to reject H0)\")\n",
        "else:\n",
        "    print(\"Sample does not look Gaussian (reject H0)\")"
      ],
      "metadata": {
        "colab": {
          "base_uri": "https://localhost:8080/"
        },
        "id": "kB6j1egtTRx0",
        "outputId": "d8f4cfe4-72ef-4604-a1d1-e622049f72c1"
      },
      "execution_count": 45,
      "outputs": [
        {
          "output_type": "stream",
          "name": "stdout",
          "text": [
            "[-1.42174039 -0.1703692  -0.79035344 -1.0903706   0.2328383  -1.66511548\n",
            " -1.12835498 -0.06717865 -0.23686277 -0.70305252  0.31686423 -0.56593843\n",
            " -0.1207672  -0.49699227  0.37849197 -0.16313046 -0.13669422  0.89498567\n",
            "  0.45582262 -0.33707837 -0.35301894 -0.65883869 -0.4422949   1.15404414\n",
            " -1.29007252  0.20439067 -0.60779436  0.48909958  0.09255667 -0.12710356\n",
            " -0.16791466  0.74072923  0.67308236 -0.39284143 -0.03790527  0.34196438\n",
            "  0.24860765 -0.82295557 -0.37632304  1.16597133 -0.08475128 -0.15441082\n",
            "  0.41532558  2.0085803   0.89146545 -0.12402307 -0.55598699  0.5160184\n",
            "  0.23897041 -0.39815143  0.04534292  1.06118471 -0.28116963 -1.05970158\n",
            "  0.4366095   0.29906015  0.31486401  0.14251522 -0.82954757  0.90623627\n",
            " -0.0447229  -0.70540817  0.30856078  0.6584321   0.2351091  -0.50878436\n",
            "  0.71634382  0.34147086  0.55497928 -0.31322957 -0.58842068 -1.04933097\n",
            " -0.5197198  -0.05591304 -0.28779973  0.04356206 -0.94139941  0.86387653\n",
            " -0.35656338 -0.09858265  0.3980624   0.48673886  0.94102091  0.93371005\n",
            " -0.22070643 -0.38681967  0.30929679 -0.22958214 -0.10342909 -0.24937962\n",
            " -0.73099408  0.44942734  0.22789252  0.07939448 -0.47067588  0.25275493\n",
            "  0.31951498 -1.02693324  0.461274    0.66179567]\n",
            "\n",
            "\n",
            "      Values\n",
            "0  -1.421740\n",
            "1  -0.170369\n",
            "2  -0.790353\n",
            "3  -1.090371\n",
            "4   0.232838\n",
            "..       ...\n",
            "95  0.252755\n",
            "96  0.319515\n",
            "97 -1.026933\n",
            "98  0.461274\n",
            "99  0.661796\n",
            "\n",
            "[100 rows x 1 columns]\n",
            "\n",
            "\n",
            "Kolmogorov-Smirnov Test Statistic: 0.05679389986026673\n",
            "p-value: 0.885308352594512\n",
            "Sample looks Gaussian (fail to reject H0)\n"
          ]
        }
      ]
    },
    {
      "cell_type": "markdown",
      "source": [
        "💊 **statistic, p_value = kstest(df3['Values'], 'norm', args=(df3['Values'].mean(), df3['Values'].std()))**\n",
        "\n",
        "<font color = 'red'> **Arguments:**\n",
        "\n",
        "- <font color = 'red'> **df3['Values']**</font>: This is the data we want to test for normality. It is passed as the first argument to kstest().\n",
        "- <font color = 'red'> **'norm'**</font>: This specifies that we want to test the data against a normal distribution.\n",
        "- <font color = 'red'> **args=(df3['Values'].mean(), df3['Values'].std())**</font>: This argument allows us to pass additional parameters to the distribution function being tested against.\n",
        "    - Here, we're passing the mean (df3['Values'].mean()) and standard deviation (df3['Values'].std()) of the data as parameters to the normal distribution. This ensures that the K-S test is performed with the mean and standard deviation of our data as parameters for the normal distribution.\n",
        "\n",
        "**Output:**\n",
        "\n",
        "<font color = 'green'> The **kstest()** function returns two values: the _K-S test statistic (statistic)_ and the _p-value (p_value)_. These values are assigned to the variables statistic and p_value, respectively."
      ],
      "metadata": {
        "id": "iCZ-VFcBwkPR"
      }
    },
    {
      "cell_type": "markdown",
      "source": [
        "# <font color = 'orange'> **2️⃣-2️⃣ Big Sample Size with Gaussian distribution (N > 50)**"
      ],
      "metadata": {
        "id": "aXb0N6620qEc"
      }
    },
    {
      "cell_type": "code",
      "source": [
        "import numpy as np # numeric calculation\n",
        "import pandas as pd # data analysis\n",
        "import seaborn as sns\n",
        "from scipy.stats import kstest, norm # stats\n",
        "\n",
        "\n",
        "# Generate data from an exponential distribution\n",
        "data_big_non_gaussian = np.random.exponential(scale=3, size=100) #generates 50 data points from an exponential distribution with a mean of 3.\n",
        "print(data_big_non_gaussian)\n",
        "print('\\n')\n",
        "\n",
        "# Convert the data to a pandas DataFrame\n",
        "df4 = pd.DataFrame(data_big_non_gaussian, columns=['Values'])\n",
        "print(df4)\n",
        "print('\\n')\n",
        "\n",
        "# Save the DataFrame to a CSV file\n",
        "df4.to_csv('GeneratedBigNonGaussianSampleData.csv', index=True)\n",
        "\n",
        "# 💊 Perform Kolmogorov-Smirnov test for normality ⤵️\n",
        "statistic, p_value = kstest(df4['Values'], 'norm', args=(df4['Values'].mean(), df3['Values'].std()))\n",
        "\n",
        "# Print the test statistic and p-value\n",
        "print(\"Kolmogorov-Smirnov Test Statistic:\", statistic)\n",
        "print(\"p-value:\", p_value)\n",
        "\n",
        "# Define the CTT (critical test threshold, aka., alpha)\n",
        "alpha = 0.05\n",
        "\n",
        "# Interpret the result\n",
        "if p_value > alpha:\n",
        "    print(\"Sample looks Gaussian (fail to reject H0)\")\n",
        "else:\n",
        "    print(\"Sample does not look Gaussian (reject H0)\")\n"
      ],
      "metadata": {
        "id": "5l_cALqUyqoX",
        "outputId": "beb107d9-df27-4dee-89c1-f6357c3e1896",
        "colab": {
          "base_uri": "https://localhost:8080/"
        }
      },
      "execution_count": 54,
      "outputs": [
        {
          "output_type": "stream",
          "name": "stdout",
          "text": [
            "[ 3.36991396  0.70821149  5.20315183  5.19222035  1.96288227 21.5452807\n",
            "  0.60926748  1.74159494  0.48417762  1.7362759   9.43057903  2.32495922\n",
            "  0.36569373  3.12719478  0.81801362  0.54180427  2.56577154  3.94459949\n",
            "  0.72747765  3.02691889  3.67096899 13.0637036   3.25065141  1.271949\n",
            "  1.1066694   0.84356994  1.30011469  0.97194032  6.28060596 10.87530006\n",
            "  3.08740112  0.59284826  0.60802462  0.12600752  2.27974578  1.555613\n",
            "  0.31723779  3.2782513   2.73952187  2.04968314  2.38515424  1.30147999\n",
            "  5.92414324  7.46038148  0.84741231  5.33490059 21.04271259  1.96230055\n",
            "  0.03373609 18.41142166  2.79733629  2.71826841  5.91520827  1.48594163\n",
            "  0.14795706  3.73342774  2.00125086  7.25608105  7.90237237  1.18379918\n",
            " 14.72983216  0.88336353  4.26422097  0.33299717  2.57006851  0.93690452\n",
            "  2.81077677  1.70893706  5.26376465  3.20000987  0.90943536  2.99449531\n",
            "  7.29507318  6.32585362  0.28873403  2.76252084  1.96292048  0.50985224\n",
            "  1.3993901   3.56705949  2.0358234   1.45632663  0.21699775  0.83550958\n",
            "  2.69145244  1.60689177  3.39286263  4.86784132  1.32326263  5.3123892\n",
            "  5.8432232   1.72334199  0.56496411  2.32949677  2.27071373  1.16239746\n",
            "  9.85643965  2.05996704  1.04409617  3.73945801]\n",
            "\n",
            "\n",
            "      Values\n",
            "0   3.369914\n",
            "1   0.708211\n",
            "2   5.203152\n",
            "3   5.192220\n",
            "4   1.962882\n",
            "..       ...\n",
            "95  1.162397\n",
            "96  9.856440\n",
            "97  2.059967\n",
            "98  1.044096\n",
            "99  3.739458\n",
            "\n",
            "[100 rows x 1 columns]\n",
            "\n",
            "\n",
            "Kolmogorov-Smirnov Test Statistic: 0.49713230890359195\n",
            "p-value: 2.3288825472796113e-23\n",
            "Sample does not look Gaussian (reject H0)\n"
          ]
        }
      ]
    },
    {
      "cell_type": "markdown",
      "source": [
        "## 💿 💿 3️⃣-1️⃣ When you use your csv. file (e.g., downloading from url or on your machine...)\n",
        "    Be aware that the following script generates the same result for everyone running it!"
      ],
      "metadata": {
        "id": "reXYftIwIjC0"
      }
    },
    {
      "cell_type": "code",
      "source": [
        "import urllib.request\n",
        "\n",
        "#🍎 URL of the CSV file\n",
        "url = 'https://raw.githubusercontent.com/ms624atyale/Data_NLP2024/main/GeneratedGaussianSampleData.csv'\n",
        "response = urllib.request.urlopen(url)\n",
        "content = response.read().decode('utf-8')\n",
        "print(content)\n",
        "\n",
        "# Read the CSV data from the URL into a pandas DataFrame\n",
        "df = pd.read_csv(url)\n",
        "\n",
        "# Specify the column name\n",
        "df_final = pd.DataFrame(df, columns=['Values'])\n",
        "print(df_final)\n",
        "print('\\n')\n",
        "\n",
        "# Save the DataFrame to a CSV file with index numbers\n",
        "df_final.to_csv('GeneratedGaussianSampleData.csv', index=True)\n",
        "\n",
        "\n",
        "#🍎 URL of the CSV file\n",
        "url2 = 'https://raw.githubusercontent.com/ms624atyale/Data_NLP2024/main/GeneratedNonGaussianSampleData.csv'\n",
        "response2 = urllib.request.urlopen(url2)\n",
        "content2 = response2.read().decode('utf-8')\n",
        "print(content2)\n",
        "\n",
        "# Read the CSV data from the URL into a pandas DataFrame\n",
        "df2 = pd.read_csv(url2)\n",
        "\n",
        "# Specify the column name\n",
        "df2_final = pd.DataFrame(df2, columns=['Values'])\n",
        "print(df2_final)\n",
        "print('\\n')\n",
        "\n",
        "# Save the DataFrame to a CSV file with index numbers\n",
        "df2_final.to_csv('GeneratedNonGaussianSampleData.csv', index=True)"
      ],
      "metadata": {
        "id": "wPHxUzL21lQr",
        "outputId": "42d9b5aa-3dee-4e4c-bc47-2837e5447248",
        "colab": {
          "base_uri": "https://localhost:8080/"
        }
      },
      "execution_count": 59,
      "outputs": [
        {
          "output_type": "stream",
          "name": "stdout",
          "text": [
            ",Values\n",
            "0,-0.26140370535497714\n",
            "1,0.674465529456594\n",
            "2,1.199006619270691\n",
            "3,0.6707446831987965\n",
            "4,0.17259018031985804\n",
            "5,-1.100079042519609\n",
            "6,2.195231656277767\n",
            "7,0.5510303263985642\n",
            "8,1.2609665083636878\n",
            "9,-0.2817066086483786\n",
            "10,-0.053436689783102016\n",
            "11,1.7073266397638478\n",
            "12,-0.17332333414794782\n",
            "13,-0.06610963699188709\n",
            "14,-1.4158000692431818\n",
            "15,0.10413887494346163\n",
            "16,-0.5061882739160055\n",
            "17,3.770949374200536\n",
            "18,-0.025471123323784192\n",
            "19,-1.272504341354252\n",
            "20,0.7384242982778024\n",
            "21,0.2058526779794574\n",
            "22,1.2326940681416174\n",
            "23,0.571824030363047\n",
            "24,0.6904352185673545\n",
            "25,-2.1145662129819365\n",
            "26,-1.2911119038541108\n",
            "27,-1.5708435449401499\n",
            "28,0.192338612500791\n",
            "29,-0.2803028715013271\n",
            "30,-1.2682536727702356\n",
            "31,1.0344238095825893\n",
            "32,1.5449614697097125\n",
            "33,2.0240992668094933\n",
            "34,-0.7035012924435267\n",
            "35,-1.3829325233397136\n",
            "36,-1.426636453869556\n",
            "37,-0.8440400880119733\n",
            "38,1.8565827172320106\n",
            "39,-0.6870165407486853\n",
            "40,1.382695436532822\n",
            "41,0.591449760429834\n",
            "42,-0.2633436514067763\n",
            "43,-0.23701508862948237\n",
            "44,-0.10269213647140327\n",
            "45,0.6888320081690639\n",
            "46,0.31676036924895196\n",
            "47,0.10375931969732914\n",
            "48,1.3714449714201677\n",
            "49,0.05783865849601184\n",
            "50,-1.8531056624716609\n",
            "51,-0.6687369066899477\n",
            "52,-0.5261309953201418\n",
            "53,1.7749476960090886\n",
            "54,-1.6787377140386446\n",
            "55,-0.5026597937692723\n",
            "56,-1.2844088449822464\n",
            "57,2.3113455474924627\n",
            "58,0.6296046198615275\n",
            "59,0.9015972714779167\n",
            "60,0.00454993951987519\n",
            "61,-0.19348991146525407\n",
            "62,1.9665050909044761\n",
            "63,-1.5546442365455102\n",
            "64,-0.40056951814646446\n",
            "65,-0.6299237859984095\n",
            "66,0.09163828696968154\n",
            "67,-0.15637033462762756\n",
            "68,0.12149319813378877\n",
            "69,-0.4102627764297844\n",
            "70,-0.5449748966664201\n",
            "71,-0.7610934589886442\n",
            "72,0.2145283319746021\n",
            "73,0.24483126827625756\n",
            "74,-0.901078824260053\n",
            "75,-0.2897171343204963\n",
            "76,0.28121743677027067\n",
            "77,-0.3537024663086641\n",
            "78,1.7146661950016364\n",
            "79,1.0666522557786138\n",
            "80,-0.5375417037780075\n",
            "81,-0.5307379903934255\n",
            "82,-0.12358848092795403\n",
            "83,1.2755855334667205\n",
            "84,0.6970724861828327\n",
            "85,-0.11612119615335639\n",
            "86,0.041001100234323386\n",
            "87,-0.5082917383357459\n",
            "88,-0.5797660012000004\n",
            "89,0.5294992864338235\n",
            "90,-0.2829730431627781\n",
            "91,0.2748472629003029\n",
            "92,-0.2861709539402205\n",
            "93,-1.0196877395669952\n",
            "94,1.3041006127841448\n",
            "95,-0.5173193666786137\n",
            "96,-0.01747837533659224\n",
            "97,2.1858374060200236\n",
            "98,1.566689655025073\n",
            "99,-2.0404810062310528\n",
            "\n",
            "      Values\n",
            "0  -0.261404\n",
            "1   0.674466\n",
            "2   1.199007\n",
            "3   0.670745\n",
            "4   0.172590\n",
            "..       ...\n",
            "95 -0.517319\n",
            "96 -0.017478\n",
            "97  2.185837\n",
            "98  1.566690\n",
            "99 -2.040481\n",
            "\n",
            "[100 rows x 1 columns]\n",
            "\n",
            "\n",
            ",Values\n",
            "0,1.5475096968861242\n",
            "1,1.259123650569019\n",
            "2,0.12831709720086534\n",
            "3,0.012411977738056527\n",
            "4,2.2481262991313784\n",
            "5,0.29621288195768325\n",
            "6,1.7528857397831947\n",
            "7,1.1290945282531017\n",
            "8,3.751954402591832\n",
            "9,0.8917383279409176\n",
            "10,0.04812475007460314\n",
            "11,1.190941495235246\n",
            "12,1.3847573966201647\n",
            "13,0.19834314610262072\n",
            "14,0.4539527112892804\n",
            "15,1.3132435190233065\n",
            "16,1.0299146682599896\n",
            "17,0.8300696299511572\n",
            "18,0.4720074289662052\n",
            "19,0.10454934823782532\n",
            "20,2.7644614896042086\n",
            "21,3.606064958876643\n",
            "22,0.38470394674843256\n",
            "23,2.555415493222884\n",
            "24,2.815068748963739\n",
            "25,0.7179011255645823\n",
            "26,0.5842663579187881\n",
            "27,1.4876347594847181\n",
            "28,1.1278509378868091\n",
            "29,0.8324702959001093\n",
            "30,0.6821040092925877\n",
            "31,4.302114956444422\n",
            "32,1.6511988938726638\n",
            "33,2.1447469047122216\n",
            "34,0.05304536430658492\n",
            "35,3.492840885305829\n",
            "36,0.05311308797493414\n",
            "37,1.8513464238343629\n",
            "38,0.7082063549230987\n",
            "39,0.031845816802109454\n",
            "40,4.066520321208052\n",
            "41,0.6527128267426698\n",
            "42,0.17735331945909785\n",
            "43,0.531572877684568\n",
            "44,2.6025791190103353\n",
            "45,0.09139478677475124\n",
            "46,2.3192246072329525\n",
            "47,3.704390001748686\n",
            "48,4.714352163004161\n",
            "49,4.368933379913903\n",
            "50,0.29611795558305787\n",
            "51,2.007417345907303\n",
            "52,1.6266828829524576\n",
            "53,1.1132657296313846\n",
            "54,0.3007073990067125\n",
            "55,0.9586223227506355\n",
            "56,1.031897311281337\n",
            "57,2.528054066607004\n",
            "58,1.6913352576953746\n",
            "59,0.8189522196697416\n",
            "60,1.5778092289520198\n",
            "61,1.6078281905428968\n",
            "62,0.09491805367352296\n",
            "63,1.1755066274041388\n",
            "64,1.304677447609491\n",
            "65,9.892500378452436\n",
            "66,4.320511867581146\n",
            "67,1.7944540181597877\n",
            "68,3.27466760561315\n",
            "69,0.05540208047783494\n",
            "70,1.4067492873568062\n",
            "71,1.0173464354793702\n",
            "72,0.6592891865822851\n",
            "73,3.3509045131154864\n",
            "74,2.725352886208856\n",
            "75,0.9240316210902948\n",
            "76,1.9070655714152465\n",
            "77,1.8551957882343983\n",
            "78,1.3372082241746557\n",
            "79,0.7193616778797652\n",
            "80,1.7959581534356626\n",
            "81,3.517695986033805\n",
            "82,3.588705588778991\n",
            "83,0.30878456442662267\n",
            "84,2.245831835689326\n",
            "85,0.20945053435650857\n",
            "86,2.515998297961766\n",
            "87,6.566830845277133\n",
            "88,0.6233697981304445\n",
            "89,0.3412918141236778\n",
            "90,0.19164868950354927\n",
            "91,0.5276603010425786\n",
            "92,0.4941039973435123\n",
            "93,0.38042721593389617\n",
            "94,1.1379647830795934\n",
            "95,0.8308332970925332\n",
            "96,3.335685855603009\n",
            "97,1.1247120388817886\n",
            "98,1.5524957602693186\n",
            "99,0.7580816031862018\n",
            "\n",
            "      Values\n",
            "0   1.547510\n",
            "1   1.259124\n",
            "2   0.128317\n",
            "3   0.012412\n",
            "4   2.248126\n",
            "..       ...\n",
            "95  0.830833\n",
            "96  3.335686\n",
            "97  1.124712\n",
            "98  1.552496\n",
            "99  0.758082\n",
            "\n",
            "[100 rows x 1 columns]\n",
            "\n",
            "\n"
          ]
        }
      ]
    },
    {
      "cell_type": "markdown",
      "source": [
        "#📊 **Gaussian Distribution Graph** using an uploaded file"
      ],
      "metadata": {
        "id": "1P-LDKW6YTpX"
      }
    },
    {
      "cell_type": "code",
      "source": [
        "import numpy as np\n",
        "import pandas as pd\n",
        "import matplotlib.pyplot as plt\n",
        "from scipy.stats import kstest, norm\n",
        "\n",
        "# Load the data from the CSV file\n",
        "data5_gaussian = pd.read_csv('/content/GeneratedGaussianBigSampleData.csv')\n",
        "df5 = data5_gaussian['Values']  # Extract the column containing the data\n",
        "\n",
        "# Perform Kolmogorov-Smirnov test for normality\n",
        "statistic, p_value = kstest(df5, 'norm')\n",
        "\n",
        "# 💊 The following codeline for Kolmogorov-Smirnov test for normality does not work... ⤵️\n",
        "#statistic, p_value = kstest(df5['Values'], 'norm', args=(df5['Values'].mean(), df5['Values'].std()))\n",
        "\n",
        "# Print the test statistic and p-value\n",
        "print(\"Kolmogorov-Smirnov Test Statistic:\", statistic)\n",
        "print(\"p-value:\", p_value)\n",
        "\n",
        "# Define the CTT (critical test threshold, aka., alpha)\n",
        "alpha = 0.05\n",
        "\n",
        "# Interpret the result\n",
        "if p_value > alpha:\n",
        "    print(\"Sample looks Gaussian (fail to reject H0)\")\n",
        "else:\n",
        "    print(\"Sample does not look Gaussian (reject H0)\")\n",
        "\n",
        "# Plot histogram of the data\n",
        "plt.figure(figsize=(10, 6))\n",
        "sns.histplot(df5, kde=True, color='skyblue', stat='density')\n",
        "\n",
        "# Plot normal distribution curve\n",
        "mu, sigma = np.mean(df5), np.std(df5)\n",
        "x = np.linspace(mu - 3*sigma, mu + 3*sigma, 100)\n",
        "plt.plot(x, norm.pdf(x, mu, sigma), 'r-', label='Normal Distribution')\n",
        "\n",
        "plt.xlabel('Data')\n",
        "plt.ylabel('Density')\n",
        "plt.title('Histogram of Data with Normal Distribution')\n",
        "plt.legend()\n",
        "plt.show()"
      ],
      "metadata": {
        "colab": {
          "base_uri": "https://localhost:8080/",
          "height": 506
        },
        "id": "Z9qyDf725sgH",
        "outputId": "bb6d8c9b-7318-48c0-c52c-791a9d2baefc"
      },
      "execution_count": 82,
      "outputs": [
        {
          "output_type": "stream",
          "name": "stdout",
          "text": [
            "Kolmogorov-Smirnov Test Statistic: 0.14292077738531783\n",
            "p-value: 0.030273759309853144\n",
            "Sample does not look Gaussian (reject H0)\n"
          ]
        },
        {
          "output_type": "display_data",
          "data": {
            "text/plain": [
              "<Figure size 1000x600 with 1 Axes>"
            ],
            "image/png": "[encoded data removed]"
          },
          "metadata": {}
        }
      ]
    },
    {
      "cell_type": "markdown",
      "source": [
        "## 💿 💿 3️⃣-2️⃣ When you use your csv. file...\n",
        "    Be aware that the following script generates the same result for everyone running it!"
      ],
      "metadata": {
        "id": "Vi2ohS-YZTMm"
      }
    },
    {
      "cell_type": "markdown",
      "source": [
        "#📊 **Non-Gaussian Distribution Graph** using an uploaded file"
      ],
      "metadata": {
        "id": "1imQ_aEFY2Pe"
      }
    },
    {
      "cell_type": "code",
      "source": [
        "import numpy as np\n",
        "import pandas as pd\n",
        "from scipy.stats import shapiro\n",
        "\n",
        "import matplotlib.pyplot as plt\n",
        "from scipy.stats import kstest, norm\n",
        "import seaborn as sns\n",
        "\n",
        "# Load the data from the CSV file\n",
        "data6_non_gaussian = pd.read_csv('/content/sample_data/GeneratedNonGaussianBigSampleData.csv')\n",
        "df6 = data6_non_gaussian['Values']  # Extract the column containing the data\n",
        "\n",
        "# Convert the data to a pandas DataFrame\n",
        "df6 = pd.DataFrame(df6, columns=['Values'])\n",
        "\n",
        "# 💊 Perform Kolmogorov-Smirnov test for normality ⤵️\n",
        "statistic, p_value = kstest(df6['Values'], 'norm', args=(df6['Values'].mean(), df6['Values'].std()))\n",
        "\n",
        "# Print the test statistic and p-value\n",
        "print(\"Kolmogorov-Smirnov Test Statistic:\", statistic)\n",
        "print(\"p-value:\", p_value)\n",
        "\n",
        "\n",
        "# Print the test statistic and p-value\n",
        "print(\"Shapiro-Wilk Test Statistic:\", statistic)\n",
        "print(\"p-value:\", p_value)\n",
        "\n",
        "# Define the CTT (critical test threshold, aka., alpha)\n",
        "alpha = 0.05\n",
        "\n",
        "# Interpret the result\n",
        "if p_value > alpha:\n",
        "    print(\"Sample looks Gaussian (fail to reject H0)\")\n",
        "else:\n",
        "    print(\"Sample does not look Gaussian (reject H0)\")\n",
        "\n",
        "# Display the full set of data points\n",
        "print(\"Full set of data points:\")\n",
        "print(df6)\n",
        "\n",
        "# Plot histogram of the data\n",
        "plt.figure(figsize=(10, 6))\n",
        "sns.histplot(df6, kde=True, color='skyblue', stat='density')\n",
        "\n",
        "# Plot exponential distribution curve (💊 Caution: Code lines for plotting Normal distribution curve is different!)\n",
        "scale = 1  # Exponential distribution scale parameter (mean)\n",
        "x = np.linspace(0, df6['Values'].max(), 100)\n",
        "plt.plot(x, expon.pdf(x, scale=scale), 'r-', label='Exponential Distribution')\n",
        "\n",
        "plt.xlabel('Data')\n",
        "plt.ylabel('Density')\n",
        "plt.title('Histogram of Data without Normal Distribution')\n",
        "plt.legend()\n",
        "plt.show()"
      ],
      "metadata": {
        "id": "0dnk1Z_lT2zZ",
        "outputId": "21afa6ae-2667-4e31-afdd-52d6a9c5b43b",
        "colab": {
          "base_uri": "https://localhost:8080/",
          "height": 801
        }
      },
      "execution_count": 81,
      "outputs": [
        {
          "output_type": "stream",
          "name": "stdout",
          "text": [
            "Kolmogorov-Smirnov Test Statistic: 0.15200362610948187\n",
            "p-value: 0.01753686573421432\n",
            "Shapiro-Wilk Test Statistic: 0.15200362610948187\n",
            "p-value: 0.01753686573421432\n",
            "Sample does not look Gaussian (reject H0)\n",
            "Full set of data points:\n",
            "      Values\n",
            "0   1.547510\n",
            "1   1.259124\n",
            "2   0.128317\n",
            "3   0.012412\n",
            "4   2.248126\n",
            "..       ...\n",
            "95  0.830833\n",
            "96  3.335686\n",
            "97  1.124712\n",
            "98  1.552496\n",
            "99  0.758082\n",
            "\n",
            "[100 rows x 1 columns]\n"
          ]
        },
        {
          "output_type": "display_data",
          "data": {
            "text/plain": [
              "<Figure size 1000x600 with 1 Axes>"
            ],
            "image/png": "[encoded data removed]"
          },
          "metadata": {}
        }
      ]
    },
    {
      "cell_type": "markdown",
      "source": [
        "## ➡️ T-test (with either SW test or KS test, p>0.05)\n",
        "## ➡️➡️ Wilcoxon Rank Sum text (with either SW test or KS test, p<0.05)"
      ],
      "metadata": {
        "id": "P3pOREs73Bnf"
      }
    }
  ]
}