{
  "nbformat": 4,
  "nbformat_minor": 0,
  "metadata": {
    "colab": {
      "provenance": [],
      "authorship_tag": "ABX9TyM8Yo/USEqOsA+UzT/fleqp",
      "include_colab_link": true
    },
    "kernelspec": {
      "name": "python3",
      "display_name": "Python 3"
    },
    "language_info": {
      "name": "python"
    }
  },
  "cells": [
    {
      "cell_type": "markdown",
      "metadata": {
        "id": "view-in-github",
        "colab_type": "text"
      },
      "source": [
        "<a href=\"https://colab.research.google.com/github/ms624atyale/Data_Analysis/blob/main/11_NormalityTest_SWtest_KStest.ipynb\" target=\"_parent\"><img src=\"https://colab.research.google.com/assets/colab-badge.svg\" alt=\"Open In Colab\"/></a>"
      ]
    },
    {
      "cell_type": "markdown",
      "source": [
        "## 💦🔥 **Normality test**\n",
        "\n",
        "1. **Small sample size (N<50)**, which is comparable to **Shapiro-Wilk** test on SPSS\n",
        "\n",
        "2. **Big sample size (N>50)**, which is comparable to **Kolmogorov-Smirnov** test on SPSS\n",
        "\n"
      ],
      "metadata": {
        "id": "NJ08d_uKSFuM"
      }
    },
    {
      "cell_type": "markdown",
      "source": [
        "# <font color = 'green'> **1️⃣  Small Sample Size (N < 50)**\n",
        "    **Be** aware that the following script generates different results for everyone running it!"
      ],
      "metadata": {
        "id": "ORCNnHH_10vs"
      }
    },
    {
      "cell_type": "markdown",
      "source": [
        "## CTT (Critical Test Threshold)\n",
        "\n",
        "- The p-value represents the probability of observing the test statistic (or more extreme) under the assumption that the null hypothesis is true. However, it doesn't provide information about the size of the effect or the practical significance of the result.\n",
        "\n",
        "- On the other hand, the critical test threshold (CTT) is the predetermined significance level (often denoted as alpha) at which you're willing to reject the null hypothesis. It is typically set to 0.05."
      ],
      "metadata": {
        "id": "NBV0cLff730W"
      }
    },
    {
      "cell_type": "markdown",
      "source": [
        "# <font color = 'green'> **1️⃣-1️⃣  Small Sample Size with Gaussian distribution (N < 50)**"
      ],
      "metadata": {
        "id": "l3WhCZYfbx8E"
      }
    },
    {
      "cell_type": "code",
      "execution_count": null,
      "metadata": {
        "id": "3454tysCMAaw",
        "colab": {
          "base_uri": "https://localhost:8080/"
        },
        "outputId": "bf341ddc-2869-4768-d557-7786a4f04f20"
      },
      "outputs": [
        {
          "output_type": "stream",
          "name": "stdout",
          "text": [
            "[3.06311558 3.86024082 5.24056753 4.41255991 3.11703544 2.89910458\n",
            " 4.46749156 4.20509746 2.21820283 1.90498566 3.52920426 2.60171916\n",
            " 1.89369714 3.28945091 2.48834318 2.60457086 2.90929974 2.07556486\n",
            " 2.67327347 2.57463426 3.29401441 2.1100155  2.66021632 1.69105299\n",
            " 2.73875519 3.82558354 3.03448616 2.56519025 1.30169108 3.58212535\n",
            " 2.0990314  1.46595429 3.84368046 3.64145275 3.21058476 3.94553459\n",
            " 2.97955747 3.46802949 2.18571275 3.4094476  5.02474199 1.71493991\n",
            " 3.24668187 2.80447751 3.89664552 2.14190691 3.91980557 3.18361755\n",
            " 1.3497368  4.02492624]\n",
            "\n",
            "\n",
            "Full set of data points for Gaussian data:\n",
            "      Values\n",
            "0   3.063116\n",
            "1   3.860241\n",
            "2   5.240568\n",
            "3   4.412560\n",
            "4   3.117035\n",
            "5   2.899105\n",
            "6   4.467492\n",
            "7   4.205097\n",
            "8   2.218203\n",
            "9   1.904986\n",
            "10  3.529204\n",
            "11  2.601719\n",
            "12  1.893697\n",
            "13  3.289451\n",
            "14  2.488343\n",
            "15  2.604571\n",
            "16  2.909300\n",
            "17  2.075565\n",
            "18  2.673273\n",
            "19  2.574634\n",
            "20  3.294014\n",
            "21  2.110016\n",
            "22  2.660216\n",
            "23  1.691053\n",
            "24  2.738755\n",
            "25  3.825584\n",
            "26  3.034486\n",
            "27  2.565190\n",
            "28  1.301691\n",
            "29  3.582125\n",
            "30  2.099031\n",
            "31  1.465954\n",
            "32  3.843680\n",
            "33  3.641453\n",
            "34  3.210585\n",
            "35  3.945535\n",
            "36  2.979557\n",
            "37  3.468029\n",
            "38  2.185713\n",
            "39  3.409448\n",
            "40  5.024742\n",
            "41  1.714940\n",
            "42  3.246682\n",
            "43  2.804478\n",
            "44  3.896646\n",
            "45  2.141907\n",
            "46  3.919806\n",
            "47  3.183618\n",
            "48  1.349737\n",
            "49  4.024926\n",
            "\n",
            "\n",
            "Shapiro-Wilk Test Statistic: 0.9859686493873596\n",
            "p-value: 0.8123283982276917\n",
            "Sample looks Gaussian (fail to reject H0)\n"
          ]
        }
      ],
      "source": [
        "import numpy as np # numeric calculation\n",
        "import pandas as pd # data analysis\n",
        "import seaborn as sns\n",
        "from scipy.stats import shapiro # stats\n",
        "\n",
        "# Generate a random dataset (replace this with your own data)\n",
        "# 🔔 The following code line generates random numbers from a normal (Gaussian) distribution using NumPy's random.normal function.\n",
        "# 🔔 loc=3, scale=1, size=50 (creating an array of 50 numbers drawn from a normal distribution with a mean (loc) of 3 and a standard deviation (scale) of 1.\n",
        "data_gaussian = np.random.normal(loc=3, scale=1, size=50)\n",
        "print(data_gaussian)\n",
        "print('\\n')\n",
        "\n",
        "# Convert the data to a pandas DataFrame\n",
        "df1 = pd.DataFrame(data_gaussian, columns=['Values'])\n",
        "print('Full set of data points for Gaussian data:')\n",
        "print(df1)\n",
        "print('\\n')\n",
        "\n",
        "# Save the DataFrame to a CSV file\n",
        "df1.to_csv('generated_data1.csv', index=True) # index=True for inncluding index\n",
        "\n",
        "# Perform Shapiro-Wilk test for normality\n",
        "# 🔔 Tuple unpacking: shapiro() function returns a tuple containing two values: the test statistic and the p-value.\n",
        "# By separating statistic and p_value with a comma, Python interprets the returned tuple and assigns each value to its corresponding variable.\n",
        "statistic, p_value = shapiro(data_gaussian)\n",
        "\n",
        "# Print the test statistic and p-value\n",
        "print(\"Shapiro-Wilk Test Statistic:\", statistic)\n",
        "print(\"p-value:\", p_value)\n",
        "\n",
        "# Define the CTT (critical test threshold, aka., alpha)\n",
        "alpha = 0.05\n",
        "\n",
        "# Interpret the result\n",
        "if p_value > alpha:\n",
        "    print(\"Sample looks Gaussian (fail to reject H0)\")\n",
        "else:\n",
        "    print(\"Sample does not look Gaussian (reject H0)\")\n",
        "\n"
      ]
    },
    {
      "cell_type": "markdown",
      "source": [
        "# ↘️ ↘️  \n",
        "\n",
        "## 🍪 🍩 **T-test for a pair-wise comparison for further analysis**"
      ],
      "metadata": {
        "id": "VW-fcMbXZKRS"
      }
    },
    {
      "cell_type": "markdown",
      "source": [
        "# <font color = 'green'> **1️⃣-2️⃣  Small Sample Size with non-Gaussian distribution (N < 50)**"
      ],
      "metadata": {
        "id": "UkFMUyaacPeM"
      }
    },
    {
      "cell_type": "code",
      "source": [
        "import numpy as np\n",
        "import pandas as pd\n",
        "from scipy.stats import shapiro\n",
        "\n",
        "\n",
        "# Generate data from an exponential distribution\n",
        "data_non_gaussian = np.random.exponential(scale=3, size=50) #generates 50 data points from an exponential distribution with a mean of 3.\n",
        "\n",
        "\n",
        "# Perform Shapiro-Wilk test for normality\n",
        "statistic, p_value = shapiro(data_non_gaussian)\n",
        "print(data_non_gaussian)\n",
        "print('\\n')\n",
        "\n",
        "\n",
        "# Convert the data to a pandas DataFrame\n",
        "df2 = pd.DataFrame(data_non_gaussian, columns=['Values'])\n",
        "# Display the full set of data points\n",
        "print(\"Full set of data points for Non-Gaussian data:\")\n",
        "print(df2)\n",
        "print('\\n')\n",
        "\n",
        "# Save the DataFrame to a CSV file\n",
        "df2.to_csv('non_gaussian_data.csv', index=True)\n",
        "\n",
        "# Perform Shapiro-Wilk test for normality\n",
        "statistic, p_value = shapiro(data_non_gaussian)\n",
        "\n",
        "# Print the test statistic and p-value\n",
        "print(\"Shapiro-Wilk Test Statistic:\", statistic)\n",
        "print(\"p-value:\", p_value)\n",
        "\n",
        "# Define the CTT (critical test threshold, aka., alpha)\n",
        "alpha = 0.05\n",
        "\n",
        "# Interpret the result\n",
        "if p_value > alpha:\n",
        "    print(\"Sample looks Gaussian (fail to reject H0)\")\n",
        "else:\n",
        "    print(\"Sample does not look Gaussian (reject H0)\")"
      ],
      "metadata": {
        "id": "z512G3m37zmx",
        "outputId": "6604e81f-a9cc-4ac6-8f2c-dce76bc9fdd1",
        "colab": {
          "base_uri": "https://localhost:8080/"
        }
      },
      "execution_count": null,
      "outputs": [
        {
          "output_type": "stream",
          "name": "stdout",
          "text": [
            "[ 4.39128392  1.41805837  2.20597581  5.4970073   7.42303778 11.47524251\n",
            "  1.77188     2.03501022  2.22673078  0.4714642   1.14991258  3.4717296\n",
            "  0.68448441  0.13604393  7.0807502   1.67095137  0.8621325   3.19275737\n",
            "  0.92592303  5.11435575  8.22767977  0.413394    1.71005851  8.69885117\n",
            "  0.38827459  3.34495732  1.96514109  6.0195781  13.82396358  5.02167033\n",
            "  0.07854986  0.75967128  1.95750198  2.71723662  0.30399046  0.42914018\n",
            "  0.07029064  0.65813941  5.21040325  3.65673902  9.53146709  3.03009873\n",
            "  4.0309487   3.12213196  5.45283571  1.56900323  1.32938533  0.68548009\n",
            "  1.34637133  6.82161805]\n",
            "\n",
            "\n",
            "Full set of data points for Non-Gaussian data:\n",
            "       Values\n",
            "0    4.391284\n",
            "1    1.418058\n",
            "2    2.205976\n",
            "3    5.497007\n",
            "4    7.423038\n",
            "5   11.475243\n",
            "6    1.771880\n",
            "7    2.035010\n",
            "8    2.226731\n",
            "9    0.471464\n",
            "10   1.149913\n",
            "11   3.471730\n",
            "12   0.684484\n",
            "13   0.136044\n",
            "14   7.080750\n",
            "15   1.670951\n",
            "16   0.862133\n",
            "17   3.192757\n",
            "18   0.925923\n",
            "19   5.114356\n",
            "20   8.227680\n",
            "21   0.413394\n",
            "22   1.710059\n",
            "23   8.698851\n",
            "24   0.388275\n",
            "25   3.344957\n",
            "26   1.965141\n",
            "27   6.019578\n",
            "28  13.823964\n",
            "29   5.021670\n",
            "30   0.078550\n",
            "31   0.759671\n",
            "32   1.957502\n",
            "33   2.717237\n",
            "34   0.303990\n",
            "35   0.429140\n",
            "36   0.070291\n",
            "37   0.658139\n",
            "38   5.210403\n",
            "39   3.656739\n",
            "40   9.531467\n",
            "41   3.030099\n",
            "42   4.030949\n",
            "43   3.122132\n",
            "44   5.452836\n",
            "45   1.569003\n",
            "46   1.329385\n",
            "47   0.685480\n",
            "48   1.346371\n",
            "49   6.821618\n",
            "\n",
            "\n",
            "Shapiro-Wilk Test Statistic: 0.8581863641738892\n",
            "p-value: 2.5968511181417853e-05\n",
            "Sample does not look Gaussian (reject H0)\n"
          ]
        }
      ]
    },
    {
      "cell_type": "markdown",
      "source": [
        "**e-0X in standard decimal notation is to move the decimal point X places to the left:**\n",
        "\n",
        "- **e.g., 0.345e-08 ➡️ 0.0000000345**"
      ],
      "metadata": {
        "id": "sQ4W24gidVTZ"
      }
    },
    {
      "cell_type": "markdown",
      "source": [
        "# ↘️ ↘️  \n",
        "\n",
        "##🍓 🍉**Mann Witney U test (aka. Wilcoxon Rank Sum test) for a pair-wise comparison for further analysis**"
      ],
      "metadata": {
        "id": "i4bdCug0Znta"
      }
    },
    {
      "cell_type": "markdown",
      "source": [
        "# <font color = 'green'> **2️⃣ Big Sample Size (N > 50)**\n",
        "    Be aware that the following script generates different results for everyone running it!"
      ],
      "metadata": {
        "id": "K3wroDBt2Bhz"
      }
    },
    {
      "cell_type": "markdown",
      "source": [
        "# <font color = 'orange'> **2️⃣-1️⃣  Big Sample Size with Gaussian distribution (N > 50)**"
      ],
      "metadata": {
        "id": "vh2b-3sd0er1"
      }
    },
    {
      "cell_type": "code",
      "source": [
        "import numpy as np # numeric calculation\n",
        "import pandas as pd # data analysis\n",
        "import seaborn as sns\n",
        "from scipy.stats import kstest, norm # stats\n",
        "\n",
        "\n",
        "# Generate a random dataset (replace this with your own data)\n",
        "# loc=1, scale=0.5, size=100 (creating an array of 100 numbers drawn from a normal distribution with a mean (loc) of 1 and a standard deviation (scale) of 1.\n",
        "data_big_gaussian = np.random.normal(loc=1, scale=0.5, size=100)\n",
        "print(data_big_gaussian)\n",
        "print('\\n')\n",
        "\n",
        "# Convert the data to a pandas DataFrame\n",
        "df3 = pd.DataFrame(data_big_gaussian, columns=['Values'])\n",
        "print(df3)\n",
        "print('\\n')\n",
        "\n",
        "# Save the DataFrame to a CSV file\n",
        "df3.to_csv('GeneratedGaussianBigSampleData.csv', index=True)\n",
        "\n",
        "# 💊 Perform Kolmogorov-Smirnov test for normality ⤵️\n",
        "statistic, p_value = kstest(df3['Values'], 'norm', args=(df3['Values'].mean(), df3['Values'].std()))\n",
        "\n",
        "# Print the test statistic and p-value\n",
        "print(\"Kolmogorov-Smirnov Test Statistic:\", statistic)\n",
        "print(\"p-value:\", p_value)\n",
        "\n",
        "# Define the CTT (critical test threshold, aka., alpha)\n",
        "alpha = 0.05\n",
        "\n",
        "# Interpret the result\n",
        "if p_value > alpha:\n",
        "    print(\"Sample looks Gaussian (fail to reject H0)\")\n",
        "else:\n",
        "    print(\"Sample does not look Gaussian (reject H0)\")"
      ],
      "metadata": {
        "colab": {
          "base_uri": "https://localhost:8080/"
        },
        "id": "kB6j1egtTRx0",
        "outputId": "f91741e0-3e94-4e8b-bb22-5d6b1019c830"
      },
      "execution_count": 37,
      "outputs": [
        {
          "output_type": "stream",
          "name": "stdout",
          "text": [
            "[ 0.61781765  0.7912481   0.36777432  1.52308372  1.15808099  0.23735915\n",
            "  1.29686547  1.19228686  0.60228904  1.19381665  1.63882066  0.60333817\n",
            "  1.86042303  1.518537    1.19258036  0.69505106  0.50963509  1.78837474\n",
            "  0.75794065  0.75822942  1.45417743  0.74748906  0.00956366  0.25569892\n",
            "  1.39482845  1.55153056  1.16063736  1.41041928  1.68023461  1.11192284\n",
            "  2.00486135  0.81201646  1.53933154  0.53984347  0.88444916  0.97161884\n",
            " -0.30330475  1.25481634  0.93472928  0.71746276  1.23139219  0.90989753\n",
            "  1.148268    1.65414316  0.75550258  0.67113596  0.73280622  0.10261765\n",
            "  1.75236624  0.37958283  1.20814011  0.51662349  1.13588965  0.96709229\n",
            "  1.12298357  1.39212171  1.40336803  1.15935017  1.50458622  1.42051318\n",
            " -0.20998854  0.3942417   0.61280541  0.72071212  0.85961462  1.38226784\n",
            "  0.34501195  0.86886415  0.67414383  1.10806712  1.16985536 -0.23443792\n",
            "  1.35043853  1.04427918  0.43239287  1.6671122   1.76540842  0.51157622\n",
            "  1.0596111   0.95827176  0.96461315  0.98907364  1.81253518  1.25982117\n",
            "  0.89545634  1.37732895  1.80442617  0.51072761  1.1348404   0.89510338\n",
            "  1.16908652  0.41468695  0.87927596  0.74522838  0.55049966  1.60868299\n",
            "  1.12692859  1.44155239  1.30773061  0.23369234]\n",
            "\n",
            "\n",
            "      Values\n",
            "0   0.617818\n",
            "1   0.791248\n",
            "2   0.367774\n",
            "3   1.523084\n",
            "4   1.158081\n",
            "..       ...\n",
            "95  1.608683\n",
            "96  1.126929\n",
            "97  1.441552\n",
            "98  1.307731\n",
            "99  0.233692\n",
            "\n",
            "[100 rows x 1 columns]\n",
            "\n",
            "\n",
            "Kolmogorov-Smirnov Test Statistic: 0.0727907642924095\n",
            "p-value: 0.6375457122021764\n",
            "Sample looks Gaussian (fail to reject H0)\n"
          ]
        }
      ]
    },
    {
      "cell_type": "markdown",
      "source": [
        "💊 **statistic, p_value = kstest(df3['Values'], 'norm', args=(df3['Values'].mean(), df3['Values'].std()))**\n",
        "\n",
        "<font color = 'red'> **Arguments:**\n",
        "\n",
        "- <font color = 'red'> **df3['Values']**</font>: This is the data we want to test for normality. It is passed as the first argument to kstest().\n",
        "- <font color = 'red'> **'norm'**</font>: This specifies that we want to test the data against a normal distribution.\n",
        "- <font color = 'red'> **args=(df3['Values'].mean(), df3['Values'].std())**</font>: This argument allows us to pass additional parameters to the distribution function being tested against.\n",
        "    - Here, we're passing the mean (df3['Values'].mean()) and standard deviation (df3['Values'].std()) of the data as parameters to the normal distribution. This ensures that the K-S test is performed with the mean and standard deviation of our data as parameters for the normal distribution.\n",
        "\n",
        "**Output:**\n",
        "\n",
        "<font color = 'green'> The **kstest()** function returns two values: the _K-S test statistic (statistic)_ and the _p-value (p_value)_. These values are assigned to the variables statistic and p_value, respectively."
      ],
      "metadata": {
        "id": "iCZ-VFcBwkPR"
      }
    },
    {
      "cell_type": "markdown",
      "source": [
        "# <font color = 'orange'> **2️⃣-2️⃣ Big Sample Size with Gaussian distribution (N > 50)**"
      ],
      "metadata": {
        "id": "aXb0N6620qEc"
      }
    },
    {
      "cell_type": "code",
      "source": [
        "import numpy as np # numeric calculation\n",
        "import pandas as pd # data analysis\n",
        "import seaborn as sns\n",
        "from scipy.stats import kstest, norm # stats\n",
        "\n",
        "\n",
        "# Generate data from an exponential distribution\n",
        "data_big_non_gaussian = np.random.exponential(scale=1, size=100) #generates 50 data points from an exponential distribution with a mean of 3.\n",
        "print(data_big_non_gaussian)\n",
        "print('\\n')\n",
        "\n",
        "# Convert the data to a pandas DataFrame\n",
        "df4 = pd.DataFrame(data_big_non_gaussian, columns=['Values'])\n",
        "print(df4)\n",
        "print('\\n')\n",
        "\n",
        "# Save the DataFrame to a CSV file\n",
        "df4.to_csv('GeneratedNonGaussianBigSampleData.csv', index=True)\n",
        "\n",
        "# 💊 Perform Kolmogorov-Smirnov test for normality ⤵️\n",
        "statistic, p_value = kstest(df4['Values'], 'norm', args=(df4['Values'].mean(), df3['Values'].std()))\n",
        "\n",
        "# Print the test statistic and p-value\n",
        "print(\"Kolmogorov-Smirnov Test Statistic:\", statistic)\n",
        "print(\"p-value:\", p_value)\n",
        "\n",
        "# Define the CTT (critical test threshold, aka., alpha)\n",
        "alpha = 0.05\n",
        "\n",
        "# Interpret the result\n",
        "if p_value > alpha:\n",
        "    print(\"Sample looks Gaussian (fail to reject H0)\")\n",
        "else:\n",
        "    print(\"Sample does not look Gaussian (reject H0)\")\n"
      ],
      "metadata": {
        "id": "5l_cALqUyqoX",
        "outputId": "f0f1442c-e5d7-4fcd-cdbc-831930698a30",
        "colab": {
          "base_uri": "https://localhost:8080/"
        }
      },
      "execution_count": 38,
      "outputs": [
        {
          "output_type": "stream",
          "name": "stdout",
          "text": [
            "[8.20147151e-01 4.22674693e-01 1.05846077e+00 5.39404820e-03\n",
            " 1.50459820e+00 1.53811504e-01 1.06914709e+00 1.54391236e-01\n",
            " 7.60574605e-01 8.42620947e-01 6.13061910e-02 1.27825782e+00\n",
            " 3.18264775e+00 6.85519157e-01 7.85484505e-01 4.46648069e+00\n",
            " 5.06281241e+00 6.11285553e-01 1.15904978e+00 1.61752297e+00\n",
            " 9.39241714e-04 9.44470064e-01 1.62839117e+00 1.57107315e+00\n",
            " 2.69755179e+00 2.37583546e+00 2.88548184e-01 8.71483581e-01\n",
            " 9.74838146e-01 4.62997651e-01 8.22361774e+00 5.34217082e-02\n",
            " 1.41043353e+00 1.31933228e+00 1.89054474e+00 2.38005277e-01\n",
            " 1.83623391e-01 2.83600864e+00 6.50287054e+00 3.28047614e+00\n",
            " 1.78896164e+00 2.24473463e-01 1.70606139e-01 2.31402610e+00\n",
            " 6.12512524e-01 1.06913375e-01 2.19731704e-01 3.71340794e-01\n",
            " 2.22493926e+00 8.57974984e-01 7.41702205e-01 6.85038447e-01\n",
            " 1.14857781e-01 5.67300950e-01 3.16733644e-01 6.81152904e-01\n",
            " 6.51219000e-02 2.56506878e+00 9.42507065e-01 5.50887362e-01\n",
            " 1.27629178e+00 5.63831142e-01 1.13583609e+00 2.29192532e+00\n",
            " 2.13322222e+00 1.14778873e+00 2.85269101e+00 5.69718427e-01\n",
            " 1.37458968e+00 4.30676080e-01 6.38824291e-01 2.27957370e-01\n",
            " 1.71374453e-01 3.44311229e-01 3.79156764e-01 2.15682644e+00\n",
            " 4.30260034e-01 1.44881501e+00 6.77872413e-01 2.43091136e+00\n",
            " 2.36805378e+00 4.34356828e-01 1.36070360e+00 7.58321206e-01\n",
            " 1.06254087e-01 1.39498267e+00 8.95148938e-01 2.84315145e-01\n",
            " 1.05987992e+00 3.70584153e-01 3.33041603e-01 6.05395953e+00\n",
            " 2.73092164e+00 4.07618924e-01 1.22792304e-01 1.82591763e+00\n",
            " 1.84956215e-01 9.10259960e+00 1.01265154e-01 5.64882544e-01]\n",
            "\n",
            "\n",
            "      Values\n",
            "0   0.820147\n",
            "1   0.422675\n",
            "2   1.058461\n",
            "3   0.005394\n",
            "4   1.504598\n",
            "..       ...\n",
            "95  1.825918\n",
            "96  0.184956\n",
            "97  9.102600\n",
            "98  0.101265\n",
            "99  0.564883\n",
            "\n",
            "[100 rows x 1 columns]\n",
            "\n",
            "\n",
            "Kolmogorov-Smirnov Test Statistic: 0.36421281242317743\n",
            "p-value: 2.142421076003998e-12\n",
            "Sample does not look Gaussian (reject H0)\n"
          ]
        }
      ]
    },
    {
      "cell_type": "markdown",
      "source": [
        "## 💿 💿 3️⃣-1️⃣ When you use your csv. file (e.g., downloading from url or on your machine...)\n",
        "    Be aware that the following script generates the same result for everyone running it!"
      ],
      "metadata": {
        "id": "reXYftIwIjC0"
      }
    },
    {
      "cell_type": "code",
      "source": [
        "import urllib.request\n",
        "\n",
        "#🍎 URL of the CSV file\n",
        "url = 'https://raw.githubusercontent.com/ms624atyale/Data_NLP2024/main/GeneratedGaussianBigSampleData.csv'\n",
        "response = urllib.request.urlopen(url)\n",
        "content = response.read().decode('utf-8')\n",
        "print(content)\n",
        "\n",
        "# Read the CSV data from the URL into a pandas DataFrame\n",
        "df = pd.read_csv(url)\n",
        "\n",
        "# Specify the column name\n",
        "df_final = pd.DataFrame(df, columns=['Values'])\n",
        "print(df_final)\n",
        "print('\\n')\n",
        "\n",
        "# Save the DataFrame to a CSV file with index numbers\n",
        "df_final.to_csv('GeneratedGaussianBigSampleData.csv', index=True)\n",
        "\n",
        "\n",
        "#🍎 URL of the CSV file\n",
        "url2 = 'https://raw.githubusercontent.com/ms624atyale/Data_NLP2024/main/GeneratedNonGaussianBigSampleData.csv'\n",
        "response2 = urllib.request.urlopen(url2)\n",
        "content2 = response2.read().decode('utf-8')\n",
        "print(content2)\n",
        "\n",
        "# Read the CSV data from the URL into a pandas DataFrame\n",
        "df2 = pd.read_csv(url2)\n",
        "\n",
        "# Specify the column name\n",
        "df2_final = pd.DataFrame(df2, columns=['Values'])\n",
        "print(df2_final)\n",
        "print('\\n')\n",
        "\n",
        "# Save the DataFrame to a CSV file with index numbers\n",
        "df2_final.to_csv('GeneratedNonGaussianBigSampleData.csv', index=True)"
      ],
      "metadata": {
        "id": "wPHxUzL21lQr",
        "outputId": "a193f5b6-c102-4066-835e-2399b918cee9",
        "colab": {
          "base_uri": "https://localhost:8080/"
        },
        "collapsed": true
      },
      "execution_count": 39,
      "outputs": [
        {
          "output_type": "stream",
          "name": "stdout",
          "text": [
            ",Values\n",
            "0,0.6178176473620463\n",
            "1,0.7912481030518945\n",
            "2,0.36777431855165343\n",
            "3,1.5230837217131619\n",
            "4,1.1580809936938505\n",
            "5,0.2373591538415757\n",
            "6,1.296865471245577\n",
            "7,1.192286864506459\n",
            "8,0.6022890374102259\n",
            "9,1.19381665139659\n",
            "10,1.6388206571572619\n",
            "11,0.6033381674233027\n",
            "12,1.8604230258865644\n",
            "13,1.5185369970790945\n",
            "14,1.1925803641598587\n",
            "15,0.6950510617925922\n",
            "16,0.5096350878708151\n",
            "17,1.7883747360875046\n",
            "18,0.7579406523024679\n",
            "19,0.7582294179059947\n",
            "20,1.454177430568317\n",
            "21,0.7474890604375727\n",
            "22,0.009563657276223991\n",
            "23,0.2556989223309364\n",
            "24,1.394828452103342\n",
            "25,1.5515305584079389\n",
            "26,1.1606373568364\n",
            "27,1.4104192780669098\n",
            "28,1.6802346136502506\n",
            "29,1.111922843003799\n",
            "30,2.004861354806782\n",
            "31,0.8120164573486299\n",
            "32,1.5393315418713538\n",
            "33,0.5398434655610693\n",
            "34,0.8844491568095957\n",
            "35,0.9716188388775707\n",
            "36,-0.3033047499388213\n",
            "37,1.2548163386530313\n",
            "38,0.9347292760324919\n",
            "39,0.7174627640423497\n",
            "40,1.2313921869579096\n",
            "41,0.9098975309611567\n",
            "42,1.1482680031844275\n",
            "43,1.6541431581478432\n",
            "44,0.7555025848546169\n",
            "45,0.6711359550618623\n",
            "46,0.7328062237090067\n",
            "47,0.10261765380012977\n",
            "48,1.7523662409083396\n",
            "49,0.3795828345774036\n",
            "50,1.208140114412806\n",
            "51,0.5166234907279476\n",
            "52,1.1358896541834105\n",
            "53,0.9670922942803524\n",
            "54,1.12298357268699\n",
            "55,1.3921217073030459\n",
            "56,1.4033680253627403\n",
            "57,1.159350168814426\n",
            "58,1.504586221477878\n",
            "59,1.4205131826121669\n",
            "60,-0.20998853983884747\n",
            "61,0.394241700175353\n",
            "62,0.6128054075584941\n",
            "63,0.7207121158623293\n",
            "64,0.8596146189989642\n",
            "65,1.3822678421905366\n",
            "66,0.3450119514976355\n",
            "67,0.8688641539149364\n",
            "68,0.6741438250885083\n",
            "69,1.1080671235083335\n",
            "70,1.1698553573915011\n",
            "71,-0.23443791868846398\n",
            "72,1.35043853102507\n",
            "73,1.0442791755169303\n",
            "74,0.43239287276118366\n",
            "75,1.667112201694756\n",
            "76,1.765408419197009\n",
            "77,0.5115762207375751\n",
            "78,1.0596111032322417\n",
            "79,0.9582717560277652\n",
            "80,0.9646131541983896\n",
            "81,0.9890736432928957\n",
            "82,1.8125351818903659\n",
            "83,1.259821166815035\n",
            "84,0.8954563353856133\n",
            "85,1.3773289458109936\n",
            "86,1.8044261650149478\n",
            "87,0.510727611455126\n",
            "88,1.1348403959284903\n",
            "89,0.8951033820140926\n",
            "90,1.1690865221575466\n",
            "91,0.4146869546573788\n",
            "92,0.87927596010822\n",
            "93,0.7452283794076047\n",
            "94,0.5504996631399646\n",
            "95,1.6086829882602465\n",
            "96,1.1269285948986534\n",
            "97,1.4415523913749455\n",
            "98,1.3077306055447548\n",
            "99,0.2336923376343012\n",
            "\n",
            "      Values\n",
            "0   0.617818\n",
            "1   0.791248\n",
            "2   0.367774\n",
            "3   1.523084\n",
            "4   1.158081\n",
            "..       ...\n",
            "95  1.608683\n",
            "96  1.126929\n",
            "97  1.441552\n",
            "98  1.307731\n",
            "99  0.233692\n",
            "\n",
            "[100 rows x 1 columns]\n",
            "\n",
            "\n",
            ",Values\n",
            "0,0.8201471510102353\n",
            "1,0.4226746934707299\n",
            "2,1.058460765973976\n",
            "3,0.005394048195422061\n",
            "4,1.5045982023428293\n",
            "5,0.1538115037853135\n",
            "6,1.0691470944903383\n",
            "7,0.15439123569881227\n",
            "8,0.76057460489089\n",
            "9,0.8426209466315236\n",
            "10,0.06130619100471399\n",
            "11,1.2782578233672854\n",
            "12,3.182647745165531\n",
            "13,0.6855191567315062\n",
            "14,0.7854845045002392\n",
            "15,4.466480690586185\n",
            "16,5.062812406504598\n",
            "17,0.6112855527539236\n",
            "18,1.1590497799129296\n",
            "19,1.6175229718566837\n",
            "20,0.0009392417144590904\n",
            "21,0.9444700636825826\n",
            "22,1.628391165047478\n",
            "23,1.571073145926256\n",
            "24,2.697551786904688\n",
            "25,2.3758354585904478\n",
            "26,0.2885481844195279\n",
            "27,0.8714835808416134\n",
            "28,0.9748381458324018\n",
            "29,0.4629976507179742\n",
            "30,8.223617737984773\n",
            "31,0.05342170821359917\n",
            "32,1.410433528591898\n",
            "33,1.3193322840522617\n",
            "34,1.8905447376267972\n",
            "35,0.23800527656627488\n",
            "36,0.18362339149592383\n",
            "37,2.836008639507411\n",
            "38,6.502870536221723\n",
            "39,3.2804761422473123\n",
            "40,1.7889616410667795\n",
            "41,0.22447346283310377\n",
            "42,0.17060613906237013\n",
            "43,2.3140260978993594\n",
            "44,0.6125125235252026\n",
            "45,0.10691337477429959\n",
            "46,0.2197317041160913\n",
            "47,0.3713407943321016\n",
            "48,2.224939257964661\n",
            "49,0.8579749835021349\n",
            "50,0.7417022047341372\n",
            "51,0.6850384470764056\n",
            "52,0.11485778068153613\n",
            "53,0.5673009495795485\n",
            "54,0.3167336436205966\n",
            "55,0.6811529039761027\n",
            "56,0.06512189995693374\n",
            "57,2.5650687764687277\n",
            "58,0.9425070651838667\n",
            "59,0.5508873621058616\n",
            "60,1.276291784967359\n",
            "61,0.5638311418867533\n",
            "62,1.1358360887491665\n",
            "63,2.291925315234021\n",
            "64,2.1332222163333796\n",
            "65,1.1477887345731728\n",
            "66,2.852691005760659\n",
            "67,0.569718426693098\n",
            "68,1.3745896805748765\n",
            "69,0.4306760802621035\n",
            "70,0.6388242912945602\n",
            "71,0.2279573702098994\n",
            "72,0.1713744531920963\n",
            "73,0.34431122856027274\n",
            "74,0.3791567637736151\n",
            "75,2.1568264354124715\n",
            "76,0.4302600341813968\n",
            "77,1.4488150087269533\n",
            "78,0.6778724127033208\n",
            "79,2.430911358297041\n",
            "80,2.3680537809016236\n",
            "81,0.4343568284293756\n",
            "82,1.36070360426552\n",
            "83,0.7583212060247806\n",
            "84,0.10625408707872182\n",
            "85,1.3949826731278445\n",
            "86,0.8951489381101052\n",
            "87,0.28431514494532045\n",
            "88,1.0598799189279158\n",
            "89,0.37058415339074985\n",
            "90,0.3330416027903872\n",
            "91,6.053959531791313\n",
            "92,2.7309216361965127\n",
            "93,0.40761892359974305\n",
            "94,0.122792304286596\n",
            "95,1.8259176266692292\n",
            "96,0.18495621479980315\n",
            "97,9.102599598726636\n",
            "98,0.10126515408277861\n",
            "99,0.5648825438169116\n",
            "\n",
            "      Values\n",
            "0   0.820147\n",
            "1   0.422675\n",
            "2   1.058461\n",
            "3   0.005394\n",
            "4   1.504598\n",
            "..       ...\n",
            "95  1.825918\n",
            "96  0.184956\n",
            "97  9.102600\n",
            "98  0.101265\n",
            "99  0.564883\n",
            "\n",
            "[100 rows x 1 columns]\n",
            "\n",
            "\n"
          ]
        }
      ]
    },
    {
      "cell_type": "markdown",
      "source": [
        "#📊 **Gaussian Distribution Graph** using an uploaded file"
      ],
      "metadata": {
        "id": "1P-LDKW6YTpX"
      }
    },
    {
      "cell_type": "code",
      "source": [
        "import numpy as np\n",
        "import pandas as pd\n",
        "import matplotlib.pyplot as plt\n",
        "from scipy.stats import kstest, norm\n",
        "\n",
        "# Load the data from the CSV file\n",
        "data5_gaussian = pd.read_csv('/content/GeneratedGaussianBigSampleData.csv')\n",
        "df5 = data5_gaussian['Values']  # Extract the column containing the data\n",
        "\n",
        "# Perform Kolmogorov-Smirnov test for normality\n",
        "statistic, p_value = kstest(df5, 'norm')\n",
        "\n",
        "# 💊 The following codeline for Kolmogorov-Smirnov test for normality does not work... ⤵️\n",
        "#statistic, p_value = kstest(df5['Values'], 'norm', args=(df5['Values'].mean(), df5['Values'].std()))\n",
        "\n",
        "# Print the test statistic and p-value\n",
        "print(\"Kolmogorov-Smirnov Test Statistic:\", statistic)\n",
        "print(\"p-value:\", p_value)\n",
        "\n",
        "# Define the CTT (critical test threshold, aka., alpha)\n",
        "alpha = 0.05\n",
        "\n",
        "# Interpret the result\n",
        "if p_value > alpha:\n",
        "    print(\"Sample looks Gaussian (fail to reject H0)\")\n",
        "else:\n",
        "    print(\"Sample does not look Gaussian (reject H0)\")\n",
        "\n",
        "# Plot histogram of the data\n",
        "plt.figure(figsize=(10, 6))\n",
        "sns.histplot(df5, kde=True, color='yellow', stat='density')\n",
        "\n",
        "# Plot normal distribution curve\n",
        "mu, sigma = np.mean(df5), np.std(df5)\n",
        "x = np.linspace(mu - 3*sigma, mu + 3*sigma, 100)\n",
        "plt.plot(x, norm.pdf(x, mu, sigma), 'r-', label='Normal Distribution')\n",
        "\n",
        "plt.xlabel('Data')\n",
        "plt.ylabel('Density')\n",
        "plt.title('Histogram of Data with Normal Distribution')\n",
        "plt.legend()\n",
        "plt.show()"
      ],
      "metadata": {
        "colab": {
          "base_uri": "https://localhost:8080/",
          "height": 616
        },
        "id": "Z9qyDf725sgH",
        "outputId": "d7149d42-4bff-443a-94b3-3f70eea28981"
      },
      "execution_count": 40,
      "outputs": [
        {
          "output_type": "stream",
          "name": "stdout",
          "text": [
            "Kolmogorov-Smirnov Test Statistic: 0.5549573071079674\n",
            "p-value: 1.6905467403360662e-29\n",
            "Sample does not look Gaussian (reject H0)\n"
          ]
        },
        {
          "output_type": "display_data",
          "data": {
            "text/plain": [
              "<Figure size 1000x600 with 1 Axes>"
            ],
            "image/png": "[encoded data removed]"
          },
          "metadata": {}
        }
      ]
    },
    {
      "cell_type": "markdown",
      "source": [
        "## 💿 💿 3️⃣-2️⃣ When you use your csv. file...\n",
        "    Be aware that the following script generates the same result for everyone running it!"
      ],
      "metadata": {
        "id": "Vi2ohS-YZTMm"
      }
    },
    {
      "cell_type": "markdown",
      "source": [
        "#📊 **Non-Gaussian Distribution Graph** using an uploaded file"
      ],
      "metadata": {
        "id": "1imQ_aEFY2Pe"
      }
    },
    {
      "cell_type": "code",
      "source": [
        "import numpy as np\n",
        "import pandas as pd\n",
        "from scipy.stats import shapiro\n",
        "\n",
        "import matplotlib.pyplot as plt\n",
        "from scipy.stats import kstest, norm, expon\n",
        "import seaborn as sns\n",
        "\n",
        "# Load the data from the CSV file\n",
        "data6_non_gaussian = pd.read_csv('/content/GeneratedNonGaussianBigSampleData.csv')\n",
        "df6 = data6_non_gaussian['Values']  # Extract the column containing the data\n",
        "\n",
        "# Convert the data to a pandas DataFrame\n",
        "df6 = pd.DataFrame(df6, columns=['Values'])\n",
        "\n",
        "# 💊 Perform Kolmogorov-Smirnov test for normality ⤵️\n",
        "statistic, p_value = kstest(df6['Values'], 'norm', args=(df6['Values'].mean(), df6['Values'].std()))\n",
        "\n",
        "# Print the test statistic and p-value\n",
        "print(\"Kolmogorov-Smirnov Test Statistic:\", statistic)\n",
        "print(\"p-value:\", p_value)\n",
        "\n",
        "# Define the CTT (critical test threshold, aka., alpha)\n",
        "alpha = 0.05\n",
        "\n",
        "# Interpret the result\n",
        "if p_value > alpha:\n",
        "    print(\"Sample looks Gaussian (fail to reject H0)\")\n",
        "else:\n",
        "    print(\"Sample does not look Gaussian (reject H0)\")\n",
        "\n",
        "# Display the full set of data points\n",
        "print(\"Full set of data points:\")\n",
        "print(df6)\n",
        "\n",
        "# Plot histogram of the data\n",
        "plt.figure(figsize=(10, 6))\n",
        "sns.histplot(df6, kde=True, color='skyblue', stat='density')\n",
        "\n",
        "# Plot exponential distribution curve (💊 Caution: Code lines for plotting Normal distribution curve is different!)\n",
        "scale = 1  # Exponential distribution scale parameter (mean) gives a standard exponential distribution with a mean of 1.\n",
        "# scale = 1 (Lambda = 1) is a common default because it simplifies the mathematics and is often used when the specific rate is not critical to the problem at hand.\n",
        "x = np.linspace(0, df6['Values'].max(), 100)\n",
        "plt.plot(x, expon.pdf(x, scale=scale), 'r-', label='Exponential Distribution')\n",
        "\n",
        "plt.xlabel('Data')\n",
        "plt.ylabel('Density')\n",
        "plt.title('Histogram of Data without Normal Distribution')\n",
        "plt.legend()\n",
        "plt.show()"
      ],
      "metadata": {
        "id": "0dnk1Z_lT2zZ",
        "outputId": "093fa0eb-d0ca-421b-f141-6b15fd828d4a",
        "colab": {
          "base_uri": "https://localhost:8080/",
          "height": 876
        }
      },
      "execution_count": 41,
      "outputs": [
        {
          "output_type": "stream",
          "name": "stdout",
          "text": [
            "Kolmogorov-Smirnov Test Statistic: 0.2053023107612641\n",
            "p-value: 0.000357353913930228\n",
            "Sample does not look Gaussian (reject H0)\n",
            "Full set of data points:\n",
            "      Values\n",
            "0   0.820147\n",
            "1   0.422675\n",
            "2   1.058461\n",
            "3   0.005394\n",
            "4   1.504598\n",
            "..       ...\n",
            "95  1.825918\n",
            "96  0.184956\n",
            "97  9.102600\n",
            "98  0.101265\n",
            "99  0.564883\n",
            "\n",
            "[100 rows x 1 columns]\n"
          ]
        },
        {
          "output_type": "display_data",
          "data": {
            "text/plain": [
              "<Figure size 1000x600 with 1 Axes>"
            ],
            "image/png": "[encoded data removed]"
          },
          "metadata": {}
        }
      ]
    },
    {
      "cell_type": "markdown",
      "source": [
        "## ➡️ T-test (with either SW test or KS test, p>0.05)\n",
        "## ➡️➡️ Wilcoxon Rank Sum text (with either SW test or KS test, p<0.05)"
      ],
      "metadata": {
        "id": "P3pOREs73Bnf"
      }
    }
  ]
}