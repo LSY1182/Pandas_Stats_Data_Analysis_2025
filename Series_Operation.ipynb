{
  "nbformat": 4,
  "nbformat_minor": 0,
  "metadata": {
    "colab": {
      "provenance": [],
      "authorship_tag": "ABX9TyMOEUnLC3pnPAmN1klEweAe",
      "include_colab_link": true
    },
    "kernelspec": {
      "name": "python3",
      "display_name": "Python 3"
    },
    "language_info": {
      "name": "python"
    }
  },
  "cells": [
    {
      "cell_type": "markdown",
      "metadata": {
        "id": "view-in-github",
        "colab_type": "text"
      },
      "source": [
        "<a href=\"https://colab.research.google.com/github/ms624atyale/Data_Analysis/blob/main/Series_Operation.ipynb\" target=\"_parent\"><img src=\"https://colab.research.google.com/assets/colab-badge.svg\" alt=\"Open In Colab\"/></a>"
      ]
    },
    {
      "cell_type": "markdown",
      "source": [
        "### 🐹 Pandas Series Operation 판다스 시리즈 연산\n",
        "- 사전데이터를 판다스 시리즈데이터로 만들기"
      ],
      "metadata": {
        "id": "nWW_bumBhYUX"
      }
    },
    {
      "cell_type": "code",
      "execution_count": 15,
      "metadata": {
        "colab": {
          "base_uri": "https://localhost:8080/"
        },
        "id": "p-Apx75UhWFH",
        "outputId": "97b34885-2525-4937-e60f-a2396c3bc235"
      },
      "outputs": [
        {
          "output_type": "stream",
          "name": "stdout",
          "text": [
            "Literature    100\n",
            "English        80\n",
            "Math           90\n",
            "dtype: object\n",
            "\n",
            "\n",
            "Literature    0.50\n",
            "English       0.40\n",
            "Math          0.45\n",
            "dtype: float64\n",
            "\n",
            "\n",
            "<class 'pandas.core.series.Series'>\n"
          ]
        }
      ],
      "source": [
        "import pandas as pd\n",
        "student1 = pd.Series({'Literature':100, 'English':'80', 'Math':90})\n",
        "print(student1)\n",
        "print('\\n')\n",
        "\n",
        "#student1 = pd.to_numeric(student1)  # Convert values to numeric data type, >> or >> student1 = student1.astype(int) to convert values to integer data type, or >> student1 = student1.astype(float) to convert values to float data type\n",
        "student1 = student1.astype(int)\n",
        "percentage = student1/200\n",
        "print(percentage)\n",
        "print('\\n')\n",
        "print(type(percentage))"
      ]
    },
    {
      "cell_type": "markdown",
      "source": [
        "### 🐹 Pandas Series vs. Series\n",
        "- 시리즈오 시리즈 사이에 사칙연산 (e.g., addition, subtraction, multiplication, division)을 처리하는 방법"
      ],
      "metadata": {
        "id": "hR-8xXcURlgy"
      }
    },
    {
      "cell_type": "code",
      "source": [
        "import pandas as pd\n",
        "\n",
        "student1 = pd.Series({'English':88, 'Literature':90, 'Math':98})\n",
        "student2 = pd.Series({'Literature':78, 'Math':90, 'English':'80'})\n",
        "print(student1)\n",
        "print('\\n')\n",
        "print(student2)\n",
        "print('\\n')\n",
        "\n",
        "#두 학생의 점수로 사칙연산 수행 해 보기\n",
        "\n",
        "student1 = student1.astype(int)\n",
        "student2 = student2.astype(int)\n",
        "\n",
        "addition = student1 + student2\n",
        "print(addition)\n",
        "print('\\n')\n",
        "\n",
        "subtraction = student1-student2\n",
        "print(subtraction)\n",
        "print('\\n')\n",
        "\n",
        "multiplication = student1*student2\n",
        "print(multiplication)\n",
        "print('\\n')\n",
        "\n",
        "division = student1/student2\n",
        "print(division)\n",
        "print('\\n')\n",
        "\n",
        "result = pd.DataFrame([addition, subtraction, multiplication, division], index = ['addition +', 'subtraction -', 'multiplication *', 'division /'])\n",
        "print(result)"
      ],
      "metadata": {
        "colab": {
          "base_uri": "https://localhost:8080/"
        },
        "id": "31M-Rv74RiS2",
        "outputId": "7e840e4e-09de-4f59-c27b-ed91c4ec5de1"
      },
      "execution_count": 28,
      "outputs": [
        {
          "output_type": "stream",
          "name": "stdout",
          "text": [
            "English       88\n",
            "Literature    90\n",
            "Math          98\n",
            "dtype: int64\n",
            "\n",
            "\n",
            "Literature    78\n",
            "Math          90\n",
            "English       80\n",
            "dtype: object\n",
            "\n",
            "\n",
            "English       168\n",
            "Literature    168\n",
            "Math          188\n",
            "dtype: int64\n",
            "\n",
            "\n",
            "English        8\n",
            "Literature    12\n",
            "Math           8\n",
            "dtype: int64\n",
            "\n",
            "\n",
            "English       7040\n",
            "Literature    7020\n",
            "Math          8820\n",
            "dtype: int64\n",
            "\n",
            "\n",
            "English       1.100000\n",
            "Literature    1.153846\n",
            "Math          1.088889\n",
            "dtype: float64\n",
            "\n",
            "\n",
            "                  English   Literature         Math\n",
            "addition +          168.0   168.000000   188.000000\n",
            "subtraction -         8.0    12.000000     8.000000\n",
            "multiplication *   7040.0  7020.000000  8820.000000\n",
            "division /            1.1     1.153846     1.088889\n"
          ]
        }
      ]
    },
    {
      "cell_type": "code",
      "source": [
        "import pandas as pd\n",
        "import numpy as np\n",
        "\n",
        "student1 = pd.Series({'English':np.NaN, 'Literature':90, 'Math':98})\n",
        "student2 = pd.Series({'Math':90, 'English':'80'})\n",
        "print(student1)\n",
        "print('\\n')\n",
        "print(student2)\n",
        "print('\\n')\n",
        "\n",
        "#두 학생의 점수로 사칙연산 수행 해 보기\n",
        "\n",
        "addition = student1 + student2\n",
        "print(addition)\n",
        "print('\\n')\n",
        "\n",
        "subtraction = student1-student2\n",
        "print(subtraction)\n",
        "print('\\n')\n",
        "\n",
        "multiplication = student1*student2\n",
        "print(multiplication)\n",
        "print('\\n')\n",
        "\n",
        "division = student1/student2\n",
        "print(division)\n",
        "print('\\n')\n",
        "\n",
        "result = pd.DataFrame([addition, subtraction, multiplication, division], index = ['addition +', 'subtraction -', 'multiplication *', 'division /'])\n",
        "print(result)"
      ],
      "metadata": {
        "colab": {
          "base_uri": "https://localhost:8080/"
        },
        "id": "zkwMroTSVjYE",
        "outputId": "80643822-9e57-4bbd-d681-319bb2a653cc"
      },
      "execution_count": 32,
      "outputs": [
        {
          "output_type": "stream",
          "name": "stdout",
          "text": [
            "English        NaN\n",
            "Literature    90.0\n",
            "Math          98.0\n",
            "dtype: float64\n",
            "\n",
            "\n",
            "Math       90\n",
            "English    80\n",
            "dtype: object\n",
            "\n",
            "\n",
            "English         NaN\n",
            "Literature      NaN\n",
            "Math          188.0\n",
            "dtype: object\n",
            "\n",
            "\n",
            "English       NaN\n",
            "Literature    NaN\n",
            "Math          8.0\n",
            "dtype: object\n",
            "\n",
            "\n",
            "English          NaN\n",
            "Literature       NaN\n",
            "Math          8820.0\n",
            "dtype: object\n",
            "\n",
            "\n",
            "English            NaN\n",
            "Literature         NaN\n",
            "Math          1.088889\n",
            "dtype: object\n",
            "\n",
            "\n",
            "                  English  Literature         Math\n",
            "addition +            NaN         NaN   188.000000\n",
            "subtraction -         NaN         NaN     8.000000\n",
            "multiplication *      NaN         NaN  8820.000000\n",
            "division /            NaN         NaN     1.088889\n"
          ]
        }
      ]
    }
  ]
}